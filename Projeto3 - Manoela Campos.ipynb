{
 "cells": [
  {
   "cell_type": "markdown",
   "metadata": {},
   "source": [
    "Enem - Comparação de notas com o acesso à cultura"
   ]
  },
  {
   "cell_type": "markdown",
   "metadata": {},
   "source": [
    "A partir da prova de 2009 o enem passou a ter 180 questões e ser separada em dois dias, como é hoje em dia. De 1988 a 2008 a prova tinha 63 questões e acontecia em apenas um dia. Teremos duas análises, uma até 2008 e outra a partir de 2009."
   ]
  },
  {
   "cell_type": "code",
   "execution_count": 1,
   "metadata": {
    "collapsed": true
   },
   "outputs": [],
   "source": [
    "%matplotlib inline\n",
    "import pandas as pd\n",
    "import matplotlib.pyplot as plt\n",
    "import numpy as np\n",
    "import os\n",
    "from math import *\n",
    "from scipy.stats import *"
   ]
  },
  {
   "cell_type": "code",
   "execution_count": 2,
   "metadata": {},
   "outputs": [],
   "source": [
    "dadosnota2015 = pd.read_csv('MICRODADOS_ENEM_2015.csv', encoding=\"latin1\", sep=',')\n",
    "#dadosquest2012 = pd.read_csv('enem2012\\QUESTIONARIO_ENEM_2012.csv', encoding=\"latin1\", sep=',')"
   ]
  },
  {
   "cell_type": "code",
   "execution_count": 3,
   "metadata": {
    "collapsed": true
   },
   "outputs": [],
   "source": [
    "#dados12 = dadosnota2012.loc[:,[\"NU_ANO\",\"NU_INSCRICAO\",\"NU_NOTA_OBJETIVA\",\"NU_NOTA_GLOBAL_REDACAO\"]] & dadosquest2012.loc[:,[\"Q27\",\"Q34\",\"Q36\",\"Q64\",\"Q73\",\"Q88\",\"Q89\",\"Q90\",\"Q91\",\"Q135\"]] \n",
    "dados15 = dadosnota2015.loc[:,[\"NU_ANO\",\"NU_INSCRICAO\",\"NU_NOTA_CN\",\"NU_NOTA_CH\",\"NU_NOTA_LC\",\"NU_NOTA_MT\",\"NU_NOTA_REDACAO\",\"Q001\",'Q002','Q003','Q004','Q005','Q006']]"
   ]
  },
  {
   "cell_type": "code",
   "execution_count": 4,
   "metadata": {
    "collapsed": true
   },
   "outputs": [],
   "source": [
    "DADOS15 = dados15[pd.notnull(dados15.NU_ANO)&pd.notnull(dados15.NU_INSCRICAO)&pd.notnull(dados15.NU_NOTA_CN)&pd.notnull(dados15.NU_NOTA_CH)&pd.notnull(dados15.NU_NOTA_LC)&pd.notnull(dados15.NU_NOTA_MT)&pd.notnull(dados15.Q001)&pd.notnull(dados15.Q002)&pd.notnull(dados15.Q003)&pd.notnull(dados15.Q004)&pd.notnull(dados15.Q005)&pd.notnull(dados15.Q006)]\n"
   ]
  },
  {
   "cell_type": "code",
   "execution_count": 5,
   "metadata": {},
   "outputs": [
    {
     "name": "stderr",
     "output_type": "stream",
     "text": [
      "C:\\Users\\manucirne\\Anaconda3\\lib\\site-packages\\pandas\\core\\generic.py:2773: SettingWithCopyWarning: \n",
      "A value is trying to be set on a copy of a slice from a DataFrame.\n",
      "Try using .loc[row_indexer,col_indexer] = value instead\n",
      "\n",
      "See the caveats in the documentation: http://pandas.pydata.org/pandas-docs/stable/indexing.html#indexing-view-versus-copy\n",
      "  self[name] = value\n"
     ]
    },
    {
     "data": {
      "text/html": [
       "<div>\n",
       "<table border=\"1\" class=\"dataframe\">\n",
       "  <thead>\n",
       "    <tr style=\"text-align: right;\">\n",
       "      <th></th>\n",
       "      <th>NU_ANO</th>\n",
       "      <th>NU_INSCRICAO</th>\n",
       "      <th>NU_NOTA_CN</th>\n",
       "      <th>NU_NOTA_CH</th>\n",
       "      <th>NU_NOTA_LC</th>\n",
       "      <th>NU_NOTA_MT</th>\n",
       "      <th>NU_NOTA_REDACAO</th>\n",
       "      <th>Q001</th>\n",
       "      <th>Q002</th>\n",
       "      <th>Q003</th>\n",
       "      <th>Q004</th>\n",
       "      <th>Q005</th>\n",
       "      <th>Q006</th>\n",
       "    </tr>\n",
       "  </thead>\n",
       "  <tbody>\n",
       "    <tr>\n",
       "      <th>0</th>\n",
       "      <td>2015</td>\n",
       "      <td>150000000376</td>\n",
       "      <td>657.4</td>\n",
       "      <td>705.3</td>\n",
       "      <td>591.1</td>\n",
       "      <td>732.3</td>\n",
       "      <td>760.0</td>\n",
       "      <td>NUNCA</td>\n",
       "      <td>NUNCA</td>\n",
       "      <td>LAVRADOR...</td>\n",
       "      <td>LAVRADOR...</td>\n",
       "      <td>3.0</td>\n",
       "      <td>ATÉ 1572</td>\n",
       "    </tr>\n",
       "    <tr>\n",
       "      <th>2</th>\n",
       "      <td>2015</td>\n",
       "      <td>150000001161</td>\n",
       "      <td>528.5</td>\n",
       "      <td>531.1</td>\n",
       "      <td>511.3</td>\n",
       "      <td>566.5</td>\n",
       "      <td>640.0</td>\n",
       "      <td>FACULDADE INCOMPLETA</td>\n",
       "      <td>9ANO INCOMPLETO</td>\n",
       "      <td>PROFESSOR, CORRETOR...</td>\n",
       "      <td>DIARISTA, VIGILANTE...</td>\n",
       "      <td>3.0</td>\n",
       "      <td>ATÉ 788</td>\n",
       "    </tr>\n",
       "    <tr>\n",
       "      <th>4</th>\n",
       "      <td>2015</td>\n",
       "      <td>150000001219</td>\n",
       "      <td>679.9</td>\n",
       "      <td>730.6</td>\n",
       "      <td>621.2</td>\n",
       "      <td>732.4</td>\n",
       "      <td>800.0</td>\n",
       "      <td>5ANO INCOMPLETO</td>\n",
       "      <td>9ANO INCOMPLETO</td>\n",
       "      <td>PADEIRO, MECÂNICO(A)</td>\n",
       "      <td>LAVRADOR...</td>\n",
       "      <td>5.0</td>\n",
       "      <td>ATÉ 3152</td>\n",
       "    </tr>\n",
       "    <tr>\n",
       "      <th>5</th>\n",
       "      <td>2015</td>\n",
       "      <td>150000002884</td>\n",
       "      <td>598.7</td>\n",
       "      <td>658.0</td>\n",
       "      <td>579.0</td>\n",
       "      <td>576.4</td>\n",
       "      <td>480.0</td>\n",
       "      <td>EM INCOMPLETO</td>\n",
       "      <td>9ANO INCOMPLETO</td>\n",
       "      <td>DIARISTA, VIGILANTE...</td>\n",
       "      <td>NÃO SEI</td>\n",
       "      <td>4.0</td>\n",
       "      <td>ATÉ 2364</td>\n",
       "    </tr>\n",
       "    <tr>\n",
       "      <th>6</th>\n",
       "      <td>2015</td>\n",
       "      <td>150000002510</td>\n",
       "      <td>652.1</td>\n",
       "      <td>671.9</td>\n",
       "      <td>609.3</td>\n",
       "      <td>685.5</td>\n",
       "      <td>820.0</td>\n",
       "      <td>PÓS INCOMPLETA</td>\n",
       "      <td>PÓS INCOMPLETA</td>\n",
       "      <td>MÉDICO, ENGENHEIRO...</td>\n",
       "      <td>MÉDICO, ENGENHEIRO...</td>\n",
       "      <td>3.0</td>\n",
       "      <td>ATÉ 5516</td>\n",
       "    </tr>\n",
       "  </tbody>\n",
       "</table>\n",
       "</div>"
      ],
      "text/plain": [
       "   NU_ANO  NU_INSCRICAO  NU_NOTA_CN  NU_NOTA_CH  NU_NOTA_LC  NU_NOTA_MT  \\\n",
       "0    2015  150000000376       657.4       705.3       591.1       732.3   \n",
       "2    2015  150000001161       528.5       531.1       511.3       566.5   \n",
       "4    2015  150000001219       679.9       730.6       621.2       732.4   \n",
       "5    2015  150000002884       598.7       658.0       579.0       576.4   \n",
       "6    2015  150000002510       652.1       671.9       609.3       685.5   \n",
       "\n",
       "   NU_NOTA_REDACAO                  Q001             Q002  \\\n",
       "0            760.0                 NUNCA            NUNCA   \n",
       "2            640.0  FACULDADE INCOMPLETA  9ANO INCOMPLETO   \n",
       "4            800.0       5ANO INCOMPLETO  9ANO INCOMPLETO   \n",
       "5            480.0         EM INCOMPLETO  9ANO INCOMPLETO   \n",
       "6            820.0        PÓS INCOMPLETA   PÓS INCOMPLETA   \n",
       "\n",
       "                     Q003                    Q004  Q005      Q006  \n",
       "0             LAVRADOR...             LAVRADOR...   3.0  ATÉ 1572  \n",
       "2  PROFESSOR, CORRETOR...  DIARISTA, VIGILANTE...   3.0   ATÉ 788  \n",
       "4    PADEIRO, MECÂNICO(A)             LAVRADOR...   5.0  ATÉ 3152  \n",
       "5  DIARISTA, VIGILANTE...                 NÃO SEI   4.0  ATÉ 2364  \n",
       "6   MÉDICO, ENGENHEIRO...   MÉDICO, ENGENHEIRO...   3.0  ATÉ 5516  "
      ]
     },
     "execution_count": 5,
     "metadata": {},
     "output_type": "execute_result"
    }
   ],
   "source": [
    "DADOS15.Q001 = DADOS15.Q001.astype('category')\n",
    "DADOS15.Q001.cat.categories = (['NUNCA', '5ANO INCOMPLETO','9ANO INCOMPLETO','EM INCOMPLETO','FACULDADE INCOMPLETA','PÓS INCOMPLETA','COMPLETOU PÓS','NÃO SEI'])\n",
    "DADOS15.Q002 = DADOS15.Q002.astype('category')\n",
    "DADOS15.Q002.cat.categories = (['NUNCA', '5ANO INCOMPLETO','9ANO INCOMPLETO','EM INCOMPLETO','FACULDADE INCOMPLETA','PÓS INCOMPLETA','COMPLETOU PÓS','NÃO SEI'])\n",
    "DADOS15.Q003 = DADOS15.Q003.astype('category')\n",
    "DADOS15.Q003.cat.categories = (['LAVRADOR...', 'DIARISTA, VIGILANTE...','PADEIRO, MECÂNICO(A)','PROFESSOR, CORRETOR...','MÉDICO, ENGENHEIRO...','NÃO SEI'])\n",
    "DADOS15.Q004 = DADOS15.Q004.astype('category')\n",
    "DADOS15.Q004.cat.categories = (['LAVRADOR...', 'DIARISTA, VIGILANTE...','PADEIRO, MECÂNICO(A)','PROFESSOR, CORRETOR...','MÉDICO, ENGENHEIRO...','NÃO SEI'])\n",
    "DADOS15.Q006 = DADOS15.Q006.astype('category')\n",
    "DADOS15.Q006.cat.categories = (['NENHUMA', 'ATÉ 788','ATÉ 1182','ATÉ 1572','ATÉ1970','ATÉ 2364', 'ATÉ 3152','ATÉ 3940','ATÉ 4728','ATÉ 5516', 'ATÉ 6304', 'ATÉ 7092','ATÉ 7880','ATÉ 9456','ATÉ 11820', 'ATÉ 15760','ACIMA DE 15760'])\n",
    "\n",
    "\n",
    "DADOS15.head()"
   ]
  },
  {
   "cell_type": "code",
   "execution_count": 6,
   "metadata": {
    "collapsed": true
   },
   "outputs": [],
   "source": [
    "MEDIA = 0\n",
    "MEDIA = (DADOS15.NU_NOTA_CN + DADOS15.NU_NOTA_CH + DADOS15.NU_NOTA_LC + DADOS15.NU_NOTA_MT + DADOS15.NU_NOTA_REDACAO)/5\n"
   ]
  },
  {
   "cell_type": "code",
   "execution_count": 7,
   "metadata": {
    "scrolled": true
   },
   "outputs": [
    {
     "name": "stderr",
     "output_type": "stream",
     "text": [
      "C:\\Users\\manucirne\\Anaconda3\\lib\\site-packages\\ipykernel\\__main__.py:1: SettingWithCopyWarning: \n",
      "A value is trying to be set on a copy of a slice from a DataFrame.\n",
      "Try using .loc[row_indexer,col_indexer] = value instead\n",
      "\n",
      "See the caveats in the documentation: http://pandas.pydata.org/pandas-docs/stable/indexing.html#indexing-view-versus-copy\n",
      "  if __name__ == '__main__':\n"
     ]
    }
   ],
   "source": [
    "DADOS15['MEDIA'] = MEDIA"
   ]
  },
  {
   "cell_type": "code",
   "execution_count": 8,
   "metadata": {
    "collapsed": true
   },
   "outputs": [],
   "source": [
    "DADOS15.columns = [\"ANO\",\"INSCRICAO\",\"NOTA_CN\",\"NOTA_CH\",\"NOTA_LC\",\"NOTA_MT\",\"NOTA_REDACAO\",\"ESTUDO_PAI\",\"ESTUDO_MÃE\",\"TRABALHO_PAI\",\"TRABALHO_MAE\",\"MORADORES_CASA\",\"RENDA_FAMILIAR\",\"MEDIA_NOTAS\"]"
   ]
  },
  {
   "cell_type": "code",
   "execution_count": 9,
   "metadata": {},
   "outputs": [
    {
     "data": {
      "text/html": [
       "<div>\n",
       "<table border=\"1\" class=\"dataframe\">\n",
       "  <thead>\n",
       "    <tr style=\"text-align: right;\">\n",
       "      <th></th>\n",
       "      <th>ANO</th>\n",
       "      <th>INSCRICAO</th>\n",
       "      <th>NOTA_CN</th>\n",
       "      <th>NOTA_CH</th>\n",
       "      <th>NOTA_LC</th>\n",
       "      <th>NOTA_MT</th>\n",
       "      <th>NOTA_REDACAO</th>\n",
       "      <th>ESTUDO_PAI</th>\n",
       "      <th>ESTUDO_MÃE</th>\n",
       "      <th>TRABALHO_PAI</th>\n",
       "      <th>TRABALHO_MAE</th>\n",
       "      <th>MORADORES_CASA</th>\n",
       "      <th>RENDA_FAMILIAR</th>\n",
       "      <th>MEDIA_NOTAS</th>\n",
       "    </tr>\n",
       "  </thead>\n",
       "  <tbody>\n",
       "    <tr>\n",
       "      <th>0</th>\n",
       "      <td>2015</td>\n",
       "      <td>150000000376</td>\n",
       "      <td>657.4</td>\n",
       "      <td>705.3</td>\n",
       "      <td>591.1</td>\n",
       "      <td>732.3</td>\n",
       "      <td>760.0</td>\n",
       "      <td>NUNCA</td>\n",
       "      <td>NUNCA</td>\n",
       "      <td>LAVRADOR...</td>\n",
       "      <td>LAVRADOR...</td>\n",
       "      <td>3.0</td>\n",
       "      <td>ATÉ 1572</td>\n",
       "      <td>689.22</td>\n",
       "    </tr>\n",
       "    <tr>\n",
       "      <th>2</th>\n",
       "      <td>2015</td>\n",
       "      <td>150000001161</td>\n",
       "      <td>528.5</td>\n",
       "      <td>531.1</td>\n",
       "      <td>511.3</td>\n",
       "      <td>566.5</td>\n",
       "      <td>640.0</td>\n",
       "      <td>FACULDADE INCOMPLETA</td>\n",
       "      <td>9ANO INCOMPLETO</td>\n",
       "      <td>PROFESSOR, CORRETOR...</td>\n",
       "      <td>DIARISTA, VIGILANTE...</td>\n",
       "      <td>3.0</td>\n",
       "      <td>ATÉ 788</td>\n",
       "      <td>555.48</td>\n",
       "    </tr>\n",
       "    <tr>\n",
       "      <th>4</th>\n",
       "      <td>2015</td>\n",
       "      <td>150000001219</td>\n",
       "      <td>679.9</td>\n",
       "      <td>730.6</td>\n",
       "      <td>621.2</td>\n",
       "      <td>732.4</td>\n",
       "      <td>800.0</td>\n",
       "      <td>5ANO INCOMPLETO</td>\n",
       "      <td>9ANO INCOMPLETO</td>\n",
       "      <td>PADEIRO, MECÂNICO(A)</td>\n",
       "      <td>LAVRADOR...</td>\n",
       "      <td>5.0</td>\n",
       "      <td>ATÉ 3152</td>\n",
       "      <td>712.82</td>\n",
       "    </tr>\n",
       "    <tr>\n",
       "      <th>5</th>\n",
       "      <td>2015</td>\n",
       "      <td>150000002884</td>\n",
       "      <td>598.7</td>\n",
       "      <td>658.0</td>\n",
       "      <td>579.0</td>\n",
       "      <td>576.4</td>\n",
       "      <td>480.0</td>\n",
       "      <td>EM INCOMPLETO</td>\n",
       "      <td>9ANO INCOMPLETO</td>\n",
       "      <td>DIARISTA, VIGILANTE...</td>\n",
       "      <td>NÃO SEI</td>\n",
       "      <td>4.0</td>\n",
       "      <td>ATÉ 2364</td>\n",
       "      <td>578.42</td>\n",
       "    </tr>\n",
       "    <tr>\n",
       "      <th>6</th>\n",
       "      <td>2015</td>\n",
       "      <td>150000002510</td>\n",
       "      <td>652.1</td>\n",
       "      <td>671.9</td>\n",
       "      <td>609.3</td>\n",
       "      <td>685.5</td>\n",
       "      <td>820.0</td>\n",
       "      <td>PÓS INCOMPLETA</td>\n",
       "      <td>PÓS INCOMPLETA</td>\n",
       "      <td>MÉDICO, ENGENHEIRO...</td>\n",
       "      <td>MÉDICO, ENGENHEIRO...</td>\n",
       "      <td>3.0</td>\n",
       "      <td>ATÉ 5516</td>\n",
       "      <td>687.76</td>\n",
       "    </tr>\n",
       "  </tbody>\n",
       "</table>\n",
       "</div>"
      ],
      "text/plain": [
       "    ANO     INSCRICAO  NOTA_CN  NOTA_CH  NOTA_LC  NOTA_MT  NOTA_REDACAO  \\\n",
       "0  2015  150000000376    657.4    705.3    591.1    732.3         760.0   \n",
       "2  2015  150000001161    528.5    531.1    511.3    566.5         640.0   \n",
       "4  2015  150000001219    679.9    730.6    621.2    732.4         800.0   \n",
       "5  2015  150000002884    598.7    658.0    579.0    576.4         480.0   \n",
       "6  2015  150000002510    652.1    671.9    609.3    685.5         820.0   \n",
       "\n",
       "             ESTUDO_PAI       ESTUDO_MÃE            TRABALHO_PAI  \\\n",
       "0                 NUNCA            NUNCA             LAVRADOR...   \n",
       "2  FACULDADE INCOMPLETA  9ANO INCOMPLETO  PROFESSOR, CORRETOR...   \n",
       "4       5ANO INCOMPLETO  9ANO INCOMPLETO    PADEIRO, MECÂNICO(A)   \n",
       "5         EM INCOMPLETO  9ANO INCOMPLETO  DIARISTA, VIGILANTE...   \n",
       "6        PÓS INCOMPLETA   PÓS INCOMPLETA   MÉDICO, ENGENHEIRO...   \n",
       "\n",
       "             TRABALHO_MAE  MORADORES_CASA RENDA_FAMILIAR  MEDIA_NOTAS  \n",
       "0             LAVRADOR...             3.0       ATÉ 1572       689.22  \n",
       "2  DIARISTA, VIGILANTE...             3.0        ATÉ 788       555.48  \n",
       "4             LAVRADOR...             5.0       ATÉ 3152       712.82  \n",
       "5                 NÃO SEI             4.0       ATÉ 2364       578.42  \n",
       "6   MÉDICO, ENGENHEIRO...             3.0       ATÉ 5516       687.76  "
      ]
     },
     "execution_count": 9,
     "metadata": {},
     "output_type": "execute_result"
    }
   ],
   "source": [
    "DADOS15.head()"
   ]
  },
  {
   "cell_type": "code",
   "execution_count": 10,
   "metadata": {},
   "outputs": [
    {
     "data": {
      "text/plain": [
       "<matplotlib.legend.Legend at 0x1ae92f8a860>"
      ]
     },
     "execution_count": 10,
     "metadata": {},
     "output_type": "execute_result"
    },
    {
     "data": {
      "image/png": "[encoded data removed]",
      "text/plain": [
       "<matplotlib.figure.Figure at 0x1ae92f8a5c0>"
      ]
     },
     "metadata": {},
     "output_type": "display_data"
    }
   ],
   "source": [
    "# ct1 = pd.crosstab(DADOS15.RENDA_FAMILIAR, DADOS15.MEDIA_NOTAS)\n",
    "# ct1.plot(kind='bar', color=('yellow', 'salmon'))\n",
    "# plt.ylabel('RENDA FAMILIAR')\n",
    "DADOS15_RB = DADOS15[((DADOS15.RENDA_FAMILIAR) == 'NENHUMA')|((DADOS15.RENDA_FAMILIAR) == 'ATÉ 788')|((DADOS15.RENDA_FAMILIAR) == 'ATÉ 1182')|((DADOS15.RENDA_FAMILIAR) == 'ATÉ 1572')|((DADOS15.RENDA_FAMILIAR) == 'ATÉ1970')|((DADOS15.RENDA_FAMILIAR) == 'ATÉ 2364')|((DADOS15.RENDA_FAMILIAR) == 'ATÉ 3152')|((DADOS15.RENDA_FAMILIAR) == 'ATÉ 3940')|((DADOS15.RENDA_FAMILIAR) == 'ATÉ 4728')|((DADOS15.RENDA_FAMILIAR) == 'ATÉ 5516')|((DADOS15.RENDA_FAMILIAR) == 'ATÉ 6304')|((DADOS15.RENDA_FAMILIAR) == 'ATÉ 7092')]\n",
    "DADOS15_RA = DADOS15[((DADOS15.RENDA_FAMILIAR) == 'ATÉ 7880')|((DADOS15.RENDA_FAMILIAR) == 'ATÉ 9456')|((DADOS15.RENDA_FAMILIAR) == 'ATÉ 11820')|((DADOS15.RENDA_FAMILIAR) == 'ATÉ 15760')|((DADOS15.RENDA_FAMILIAR) == 'ACIMA DE 15760')]\n",
    "PLOT1 = DADOS15_RA.MEDIA_NOTAS.plot.hist(bins=50,title='NOTA MEDIA X RENDA - 2015', alpha=0.7, label='RENDA ALTA')\n",
    "plt.legend()"
   ]
  },
  {
   "cell_type": "code",
   "execution_count": 11,
   "metadata": {},
   "outputs": [
    {
     "data": {
      "text/plain": [
       "<matplotlib.legend.Legend at 0x1aec6e29518>"
      ]
     },
     "execution_count": 11,
     "metadata": {},
     "output_type": "execute_result"
    },
    {
     "data": {
      "image/png": "[encoded data removed]",
      "text/plain": [
       "<matplotlib.figure.Figure at 0x1aebec06358>"
      ]
     },
     "metadata": {},
     "output_type": "display_data"
    }
   ],
   "source": [
    "PLOT1 = DADOS15_RB.MEDIA_NOTAS.plot.hist(bins = 50,title='NOTA MEDIA X RENDA - 2015', alpha=0.7, label='RENDA BAIXA')\n",
    "plt.legend()"
   ]
  },
  {
   "cell_type": "code",
   "execution_count": 12,
   "metadata": {},
   "outputs": [
    {
     "data": {
      "text/plain": [
       "<matplotlib.legend.Legend at 0x1aeaccde6d8>"
      ]
     },
     "execution_count": 12,
     "metadata": {},
     "output_type": "execute_result"
    },
    {
     "data": {
      "image/png": "[encoded data removed]",
      "text/plain": [
       "<matplotlib.figure.Figure at 0x1b01caf0128>"
      ]
     },
     "metadata": {},
     "output_type": "display_data"
    }
   ],
   "source": [
    "DADOS15_TP1 = DADOS15[((DADOS15.ESTUDO_PAI) == 'NUNCA')|((DADOS15.RENDA_FAMILIAR) == '5ANO INCOMPLETO')|((DADOS15.RENDA_FAMILIAR) == '9ANO INCOMPLETO')|((DADOS15.RENDA_FAMILIAR) == 'EM INCOMPLETO')]\n",
    "DADOS15_TP2 = DADOS15[((DADOS15.ESTUDO_PAI) == 'FACULDADE INCOMPLETA')|((DADOS15.RENDA_FAMILIAR) == 'PÓS INCOMPLETA')|((DADOS15.RENDA_FAMILIAR) == 'COMPLETOU PÓS')]\n",
    "PLOT1 = DADOS15_TP1.MEDIA_NOTAS.plot.hist(bins = 50,title='NOTA MEDIA X TRABALHO DO PAI - 2015', alpha=0.7, label='TP1')\n",
    "plt.legend()\n"
   ]
  },
  {
   "cell_type": "code",
   "execution_count": 13,
   "metadata": {},
   "outputs": [
    {
     "data": {
      "text/plain": [
       "<matplotlib.legend.Legend at 0x1aec6e29588>"
      ]
     },
     "execution_count": 13,
     "metadata": {},
     "output_type": "execute_result"
    },
    {
     "data": {
      "image/png": "[encoded data removed]",
      "text/plain": [
       "<matplotlib.figure.Figure at 0x1af6b3e72b0>"
      ]
     },
     "metadata": {},
     "output_type": "display_data"
    }
   ],
   "source": [
    "PLOT1 = DADOS15_TP2.MEDIA_NOTAS.plot.hist(bins = 50,title='NOTA MEDIA X TRABALHO DO PAI - 2015', alpha=0.7, label='TP2')\n",
    "plt.legend()\n"
   ]
  },
  {
   "cell_type": "code",
   "execution_count": 16,
   "metadata": {},
   "outputs": [
    {
     "name": "stderr",
     "output_type": "stream",
     "text": [
      "C:\\Users\\manucirne\\Anaconda3\\lib\\site-packages\\pandas\\core\\indexing.py:297: SettingWithCopyWarning: \n",
      "A value is trying to be set on a copy of a slice from a DataFrame.\n",
      "Try using .loc[row_indexer,col_indexer] = value instead\n",
      "\n",
      "See the caveats in the documentation: http://pandas.pydata.org/pandas-docs/stable/indexing.html#indexing-view-versus-copy\n",
      "  self.obj[key] = _infer_fill_value(value)\n",
      "C:\\Users\\manucirne\\Anaconda3\\lib\\site-packages\\pandas\\core\\indexing.py:477: SettingWithCopyWarning: \n",
      "A value is trying to be set on a copy of a slice from a DataFrame.\n",
      "Try using .loc[row_indexer,col_indexer] = value instead\n",
      "\n",
      "See the caveats in the documentation: http://pandas.pydata.org/pandas-docs/stable/indexing.html#indexing-view-versus-copy\n",
      "  self.obj[item] = s\n"
     ]
    }
   ],
   "source": [
    "DADOS15.loc[(DADOS15.RENDA_FAMILIAR=='NENHUMA'),'RENDAQT'] = 0\n",
    "DADOS15.loc[(DADOS15.RENDA_FAMILIAR=='ATÉ 788'),'RENDAQT'] = 394\n",
    "DADOS15.loc[(DADOS15.RENDA_FAMILIAR=='ATÉ 1182'),'RENDAQT'] = 985\n",
    "DADOS15.loc[(DADOS15.RENDA_FAMILIAR=='ATÉ 1572'),'RENDAQT'] = 1377\n",
    "DADOS15.loc[(DADOS15.RENDA_FAMILIAR=='ATÉ1970'),'RENDAQT'] = 1771\n",
    "DADOS15.loc[(DADOS15.RENDA_FAMILIAR=='ATÉ 2364'),'RENDAQT'] = 2167\n",
    "DADOS15.loc[(DADOS15.RENDA_FAMILIAR=='ATÉ 3152'),'RENDAQT'] = 2758\n",
    "DADOS15.loc[(DADOS15.RENDA_FAMILIAR=='ATÉ 3940'),'RENDAQT'] = 3546\n",
    "DADOS15.loc[(DADOS15.RENDA_FAMILIAR=='ATÉ 4728'),'RENDAQT'] = 4334\n",
    "DADOS15.loc[(DADOS15.RENDA_FAMILIAR=='ATÉ 5516'),'RENDAQT'] = 5122\n",
    "DADOS15.loc[(DADOS15.RENDA_FAMILIAR=='ATÉ 6304'),'RENDAQT'] = 5910\n",
    "DADOS15.loc[(DADOS15.RENDA_FAMILIAR=='ATÉ 7880'),'RENDAQT'] = 7092\n",
    "DADOS15.loc[(DADOS15.RENDA_FAMILIAR=='ATÉ 9456'),'RENDAQT'] = 8668\n",
    "DADOS15.loc[(DADOS15.RENDA_FAMILIAR=='ATÉ 11820'),'RENDAQT'] = 10638\n",
    "DADOS15.loc[(DADOS15.RENDA_FAMILIAR=='ATÉ 15760'),'RENDAQT'] = 13790\n",
    "DADOS15.loc[(DADOS15.RENDA_FAMILIAR=='MAIOR QUE 15760'),'RENDAQT'] = 20000 #ainda é um chute, mas será baseado com uma média da PNAD\n"
   ]
  },
  {
   "cell_type": "code",
   "execution_count": 33,
   "metadata": {},
   "outputs": [
    {
     "name": "stderr",
     "output_type": "stream",
     "text": [
      "C:\\Users\\manucirne\\Anaconda3\\lib\\site-packages\\IPython\\core\\interactiveshell.py:2881: FutureWarning: The pandas.stats.ols module is deprecated and will be removed in a future version. We refer to external packages like statsmodels, see some examples here: http://www.statsmodels.org/stable/regression.html\n",
      "  exec(code_obj, self.user_global_ns, self.user_ns)\n"
     ]
    },
    {
     "data": {
      "text/plain": [
       "\n",
       "-------------------------Summary of Regression Analysis-------------------------\n",
       "\n",
       "Formula: Y ~ <x> + <intercept>\n",
       "\n",
       "Number of Observations:         5484904\n",
       "Number of Degrees of Freedom:   2\n",
       "\n",
       "R-squared:         0.1737\n",
       "Adj R-squared:     0.1737\n",
       "\n",
       "Rmse:             65.0608\n",
       "\n",
       "F-stat (1, 5484902): 1153022.0089, p-value:     0.0000\n",
       "\n",
       "Degrees of Freedom: model 1, resid 5484902\n",
       "\n",
       "-----------------------Summary of Estimated Coefficients------------------------\n",
       "      Variable       Coef    Std Err     t-stat    p-value    CI 2.5%   CI 97.5%\n",
       "--------------------------------------------------------------------------------\n",
       "             x     0.0142     0.0000    1073.79     0.0000     0.0142     0.0142\n",
       "     intercept   481.0281     0.0370   12986.71     0.0000   480.9555   481.1007\n",
       "---------------------------------End of Summary---------------------------------"
      ]
     },
     "execution_count": 33,
     "metadata": {},
     "output_type": "execute_result"
    }
   ],
   "source": [
    "pd.ols(x=DADOS15.RENDAQT, y=DADOS15.MEDIA_NOTAS)"
   ]
  },
  {
   "cell_type": "code",
   "execution_count": 39,
   "metadata": {},
   "outputs": [
    {
     "data": {
      "text/plain": [
       "<matplotlib.text.Text at 0x1b11004e4a8>"
      ]
     },
     "execution_count": 39,
     "metadata": {},
     "output_type": "execute_result"
    },
    {
     "data": {
      "image/png": "[encoded data removed]",
      "text/plain": [
       "<matplotlib.figure.Figure at 0x1b0da865438>"
      ]
     },
     "metadata": {},
     "output_type": "display_data"
    }
   ],
   "source": [
    "plt.scatter(DADOS15.RENDAQT,DADOS15.MEDIA_NOTAS, c='red', alpha=0.8)\n",
    "plt.plot((DADOS15.RENDAQT.min(),DADOS15.RENDAQT.max()),(0.0142*DADOS15.RENDAQT.min()+481.0281,0.0142*DADOS15.RENDAQT.max()+481.0281))\n",
    "plt.title('nota média pela renda familiar')\n",
    "plt.xlabel('renda familiar (reais)')\n",
    "plt.ylabel('nota média do filho no ENEM(2015)')"
   ]
  },
  {
   "cell_type": "code",
   "execution_count": 25,
   "metadata": {},
   "outputs": [
    {
     "data": {
      "text/plain": [
       "0.41677595991672006"
      ]
     },
     "execution_count": 25,
     "metadata": {},
     "output_type": "execute_result"
    }
   ],
   "source": [
    "DADOS15.RENDAQT.corr( DADOS15.MEDIA_NOTAS)"
   ]
  },
  {
   "cell_type": "code",
   "execution_count": 27,
   "metadata": {},
   "outputs": [
    {
     "name": "stdout",
     "output_type": "stream",
     "text": [
      "Help on function ols in module pandas.stats.interface:\n",
      "\n",
      "ols(**kwargs)\n",
      "    Returns the appropriate OLS object depending on whether you need\n",
      "    simple or panel OLS, and a full-sample or rolling/expanding OLS.\n",
      "    \n",
      "    Will be a normal linear regression or a (pooled) panel regression depending\n",
      "    on the type of the inputs:\n",
      "    \n",
      "    y : Series, x : DataFrame -> OLS\n",
      "    y : Series, x : dict of DataFrame -> OLS\n",
      "    y : DataFrame, x : DataFrame -> PanelOLS\n",
      "    y : DataFrame, x : dict of DataFrame/Panel -> PanelOLS\n",
      "    y : Series with MultiIndex, x : Panel/DataFrame + MultiIndex -> PanelOLS\n",
      "    \n",
      "    Parameters\n",
      "    ----------\n",
      "    y: Series or DataFrame\n",
      "        See above for types\n",
      "    x: Series, DataFrame, dict of Series, dict of DataFrame, Panel\n",
      "    weights : Series or ndarray\n",
      "        The weights are presumed to be (proportional to) the inverse of the\n",
      "        variance of the observations.  That is, if the variables are to be\n",
      "        transformed by 1/sqrt(W) you must supply weights = 1/W\n",
      "    intercept: bool\n",
      "        True if you want an intercept.  Defaults to True.\n",
      "    nw_lags: None or int\n",
      "        Number of Newey-West lags.  Defaults to None.\n",
      "    nw_overlap: bool\n",
      "        Whether there are overlaps in the NW lags.  Defaults to False.\n",
      "    window_type: {'full sample', 'rolling', 'expanding'}\n",
      "        'full sample' by default\n",
      "    window: int\n",
      "        size of window (for rolling/expanding OLS). If window passed and no\n",
      "        explicit window_type, 'rolling\" will be used as the window_type\n",
      "    \n",
      "    Panel OLS options:\n",
      "        pool: bool\n",
      "            Whether to run pooled panel regression.  Defaults to true.\n",
      "        entity_effects: bool\n",
      "            Whether to account for entity fixed effects.  Defaults to false.\n",
      "        time_effects: bool\n",
      "            Whether to account for time fixed effects.  Defaults to false.\n",
      "        x_effects: list\n",
      "            List of x's to account for fixed effects.  Defaults to none.\n",
      "        dropped_dummies: dict\n",
      "            Key is the name of the variable for the fixed effect.\n",
      "            Value is the value of that variable for which we drop the dummy.\n",
      "    \n",
      "            For entity fixed effects, key equals 'entity'.\n",
      "    \n",
      "            By default, the first dummy is dropped if no dummy is specified.\n",
      "        cluster: {'time', 'entity'}\n",
      "            cluster variances\n",
      "    \n",
      "    Examples\n",
      "    --------\n",
      "    # Run simple OLS.\n",
      "    result = ols(y=y, x=x)\n",
      "    \n",
      "    # Run rolling simple OLS with window of size 10.\n",
      "    result = ols(y=y, x=x, window_type='rolling', window=10)\n",
      "    print(result.beta)\n",
      "    \n",
      "    result = ols(y=y, x=x, nw_lags=1)\n",
      "    \n",
      "    # Set up LHS and RHS for data across all items\n",
      "    y = A\n",
      "    x = {'B' : B, 'C' : C}\n",
      "    \n",
      "    # Run panel OLS.\n",
      "    result = ols(y=y, x=x)\n",
      "    \n",
      "    # Run expanding panel OLS with window 10 and entity clustering.\n",
      "    result = ols(y=y, x=x, cluster='entity', window_type='expanding',\n",
      "                 window=10)\n",
      "    \n",
      "    Returns\n",
      "    -------\n",
      "    The appropriate OLS object, which allows you to obtain betas and various\n",
      "    statistics, such as std err, t-stat, etc.\n",
      "\n"
     ]
    }
   ],
   "source": [
    "help(pd.ols)"
   ]
  },
  {
   "cell_type": "code",
   "execution_count": 34,
   "metadata": {},
   "outputs": [
    {
     "name": "stderr",
     "output_type": "stream",
     "text": [
      "C:\\Users\\manucirne\\Anaconda3\\lib\\site-packages\\pandas\\core\\indexing.py:297: SettingWithCopyWarning: \n",
      "A value is trying to be set on a copy of a slice from a DataFrame.\n",
      "Try using .loc[row_indexer,col_indexer] = value instead\n",
      "\n",
      "See the caveats in the documentation: http://pandas.pydata.org/pandas-docs/stable/indexing.html#indexing-view-versus-copy\n",
      "  self.obj[key] = _infer_fill_value(value)\n",
      "C:\\Users\\manucirne\\Anaconda3\\lib\\site-packages\\pandas\\core\\indexing.py:477: SettingWithCopyWarning: \n",
      "A value is trying to be set on a copy of a slice from a DataFrame.\n",
      "Try using .loc[row_indexer,col_indexer] = value instead\n",
      "\n",
      "See the caveats in the documentation: http://pandas.pydata.org/pandas-docs/stable/indexing.html#indexing-view-versus-copy\n",
      "  self.obj[item] = s\n"
     ]
    }
   ],
   "source": [
    "DADOS15.loc[(DADOS15.ESTUDO_PAI=='NUNCA'),'ESTUDOPQT'] = 0\n",
    "DADOS15.loc[(DADOS15.ESTUDO_PAI=='5ANO INCOMPLETO'),'ESTUDOPQT'] = 4\n",
    "DADOS15.loc[(DADOS15.ESTUDO_PAI=='9ANO INCOMPLETO'),'ESTUDOPQT'] = 8\n",
    "DADOS15.loc[(DADOS15.ESTUDO_PAI=='EM INCOMPLETO'),'ESTUDOPQT'] = 11\n",
    "DADOS15.loc[(DADOS15.ESTUDO_PAI=='FACULDADE INCOMPLETA'),'ESTUDOPQT'] = 15\n",
    "DADOS15.loc[(DADOS15.ESTUDO_PAI=='PÓS INCOMPLETA'),'ESTUDOPQT'] = 17\n",
    "DADOS15.loc[(DADOS15.ESTUDO_PAI=='COMPLETOU PÓS'),'ESTUDOPQT'] = 19\n"
   ]
  },
  {
   "cell_type": "code",
   "execution_count": 35,
   "metadata": {},
   "outputs": [
    {
     "name": "stderr",
     "output_type": "stream",
     "text": [
      "C:\\Users\\manucirne\\Anaconda3\\lib\\site-packages\\IPython\\core\\interactiveshell.py:2881: FutureWarning: The pandas.stats.ols module is deprecated and will be removed in a future version. We refer to external packages like statsmodels, see some examples here: http://www.statsmodels.org/stable/regression.html\n",
      "  exec(code_obj, self.user_global_ns, self.user_ns)\n"
     ]
    },
    {
     "data": {
      "text/plain": [
       "\n",
       "-------------------------Summary of Regression Analysis-------------------------\n",
       "\n",
       "Formula: Y ~ <x> + <intercept>\n",
       "\n",
       "Number of Observations:         5088867\n",
       "Number of Degrees of Freedom:   2\n",
       "\n",
       "R-squared:         0.1232\n",
       "Adj R-squared:     0.1232\n",
       "\n",
       "Rmse:             69.0124\n",
       "\n",
       "F-stat (1, 5088865): 714987.7498, p-value:     0.0000\n",
       "\n",
       "Degrees of Freedom: model 1, resid 5088865\n",
       "\n",
       "-----------------------Summary of Estimated Coefficients------------------------\n",
       "      Variable       Coef    Std Err     t-stat    p-value    CI 2.5%   CI 97.5%\n",
       "--------------------------------------------------------------------------------\n",
       "             x     4.7795     0.0057     845.57     0.0000     4.7684     4.7906\n",
       "     intercept   463.4865     0.0645    7187.83     0.0000   463.3601   463.6129\n",
       "---------------------------------End of Summary---------------------------------"
      ]
     },
     "execution_count": 35,
     "metadata": {},
     "output_type": "execute_result"
    }
   ],
   "source": [
    "pd.ols(x=DADOS15.ESTUDOPQT, y=DADOS15.MEDIA_NOTAS)"
   ]
  },
  {
   "cell_type": "code",
   "execution_count": 38,
   "metadata": {},
   "outputs": [
    {
     "data": {
      "text/plain": [
       "<matplotlib.text.Text at 0x1b0da6fbba8>"
      ]
     },
     "execution_count": 38,
     "metadata": {},
     "output_type": "execute_result"
    },
    {
     "data": {
      "image/png": "[encoded data removed]",
      "text/plain": [
       "<matplotlib.figure.Figure at 0x1b0b33c8eb8>"
      ]
     },
     "metadata": {},
     "output_type": "display_data"
    }
   ],
   "source": [
    "plt.scatter(DADOS15.ESTUDOPQT,DADOS15.MEDIA_NOTAS, c='red', alpha=0.8)\n",
    "plt.plot((DADOS15.ESTUDOPQT.min(),DADOS15.ESTUDOPQT.max()),(4.7795*DADOS15.ESTUDOPQT.min()+463.4865,4.7795*DADOS15.ESTUDOPQT.max()+463.4865))\n",
    "plt.title('nota média pela escolaridade do pai')\n",
    "plt.xlabel('escolaridade do pai (ano até o qual cursou)')\n",
    "plt.ylabel('nota média do filho no ENEM(2015)')"
   ]
  },
  {
   "cell_type": "code",
   "execution_count": 40,
   "metadata": {},
   "outputs": [
    {
     "data": {
      "text/plain": [
       "0.35098706195160218"
      ]
     },
     "execution_count": 40,
     "metadata": {},
     "output_type": "execute_result"
    }
   ],
   "source": [
    "DADOS15.ESTUDOPQT.corr( DADOS15.MEDIA_NOTAS)"
   ]
  },
  {
   "cell_type": "code",
   "execution_count": null,
   "metadata": {},
   "outputs": [],
   "source": []
  },
  {
   "cell_type": "code",
   "execution_count": null,
   "metadata": {
    "collapsed": true
   },
   "outputs": [],
   "source": []
  }
 ],
 "metadata": {
  "kernelspec": {
   "display_name": "Python 3",
   "language": "python",
   "name": "python3"
  },
  "language_info": {
   "codemirror_mode": {
    "name": "ipython",
    "version": 3
   },
   "file_extension": ".py",
   "mimetype": "text/x-python",
   "name": "python",
   "nbconvert_exporter": "python",
   "pygments_lexer": "ipython3",
   "version": "3.6.0"
  }
 },
 "nbformat": 4,
 "nbformat_minor": 2
}
