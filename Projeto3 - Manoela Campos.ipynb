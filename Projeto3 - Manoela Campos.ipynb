{
 "cells": [
  {
   "cell_type": "markdown",
   "metadata": {},
   "source": [
    "Enem - Comparação da média das notas do aluno com a Renda e escolaridade dos seus pais."
   ]
  },
  {
   "cell_type": "markdown",
   "metadata": {},
   "source": [
    "O objetivo do trabalho é relacionar a renda familiar e o estudo dos pais do aluno com a média das notas obtidas no enem de 2014 e 2015 utilizando a regressão linear."
   ]
  },
  {
   "cell_type": "code",
   "execution_count": 1,
   "metadata": {
    "collapsed": true
   },
   "outputs": [],
   "source": [
    "import pandas as pd\n",
    "import matplotlib.pyplot as plt\n",
    "import numpy as np\n",
    "import os\n",
    "from math import *\n",
    "from scipy.stats import *"
   ]
  },
  {
   "cell_type": "code",
   "execution_count": 40,
   "metadata": {
    "collapsed": true
   },
   "outputs": [],
   "source": [
    "%matplotlib inline\n",
    "import cmath\n",
    "plt.style.use('ggplot')\n",
    "\n",
    "import itertools\n",
    "import pylab\n",
    "from mpl_toolkits.mplot3d import Axes3D\n",
    "from matplotlib import cm\n",
    "import statsmodels.api as sm1 #Usa OLS com X como matriz de planejamento\n",
    "import statsmodels.formula.api as sm2  #Usa OLS como no R"
   ]
  },
  {
   "cell_type": "code",
   "execution_count": 3,
   "metadata": {
    "collapsed": true
   },
   "outputs": [],
   "source": [
    "dados15 = pd.read_csv('dados15resumo.csv', encoding=\"latin1\", sep=',')"
   ]
  },
  {
   "cell_type": "code",
   "execution_count": 4,
   "metadata": {
    "collapsed": true
   },
   "outputs": [],
   "source": [
    "DADOS15 = dados15[pd.notnull(dados15.NU_ANO)&pd.notnull(dados15.NU_INSCRICAO)&pd.notnull(dados15.NU_NOTA_CN)&pd.notnull(dados15.NU_NOTA_CH)&pd.notnull(dados15.NU_NOTA_LC)&pd.notnull(dados15.NU_NOTA_MT)&pd.notnull(dados15.Q001)&pd.notnull(dados15.Q002)&pd.notnull(dados15.Q003)&pd.notnull(dados15.Q004)&pd.notnull(dados15.Q005)&pd.notnull(dados15.Q006)]\n"
   ]
  },
  {
   "cell_type": "markdown",
   "metadata": {},
   "source": [
    "Os dados escolhido para verificar essa relação são a renda familiar, o nível de graduação do pai e da mãe, a quantidade de moradores da casa (pensando em organizar a renda per capta se melhorar a relação) e, em 2015 o trabalho que exercem pai e mãe. Essa última escolha está aí apensa como possível relação, mas não será utilizada se não for necessário."
   ]
  },
  {
   "cell_type": "code",
   "execution_count": 5,
   "metadata": {},
   "outputs": [
    {
     "name": "stderr",
     "output_type": "stream",
     "text": [
      "C:\\Users\\manucirne\\Anaconda3\\lib\\site-packages\\pandas\\core\\generic.py:2773: SettingWithCopyWarning: \n",
      "A value is trying to be set on a copy of a slice from a DataFrame.\n",
      "Try using .loc[row_indexer,col_indexer] = value instead\n",
      "\n",
      "See the caveats in the documentation: http://pandas.pydata.org/pandas-docs/stable/indexing.html#indexing-view-versus-copy\n",
      "  self[name] = value\n"
     ]
    },
    {
     "data": {
      "text/html": [
       "<div>\n",
       "<table border=\"1\" class=\"dataframe\">\n",
       "  <thead>\n",
       "    <tr style=\"text-align: right;\">\n",
       "      <th></th>\n",
       "      <th>Unnamed: 0</th>\n",
       "      <th>NU_ANO</th>\n",
       "      <th>NU_INSCRICAO</th>\n",
       "      <th>NU_NOTA_CN</th>\n",
       "      <th>NU_NOTA_CH</th>\n",
       "      <th>NU_NOTA_LC</th>\n",
       "      <th>NU_NOTA_MT</th>\n",
       "      <th>NU_NOTA_REDACAO</th>\n",
       "      <th>Q001</th>\n",
       "      <th>Q002</th>\n",
       "      <th>Q003</th>\n",
       "      <th>Q004</th>\n",
       "      <th>Q005</th>\n",
       "      <th>Q006</th>\n",
       "    </tr>\n",
       "  </thead>\n",
       "  <tbody>\n",
       "    <tr>\n",
       "      <th>0</th>\n",
       "      <td>0</td>\n",
       "      <td>2015</td>\n",
       "      <td>150000000376</td>\n",
       "      <td>657.4</td>\n",
       "      <td>705.3</td>\n",
       "      <td>591.1</td>\n",
       "      <td>732.3</td>\n",
       "      <td>760.0</td>\n",
       "      <td>NUNCA</td>\n",
       "      <td>NUNCA</td>\n",
       "      <td>LAVRADOR...</td>\n",
       "      <td>LAVRADOR...</td>\n",
       "      <td>3.0</td>\n",
       "      <td>ATÉ 1572</td>\n",
       "    </tr>\n",
       "    <tr>\n",
       "      <th>2</th>\n",
       "      <td>2</td>\n",
       "      <td>2015</td>\n",
       "      <td>150000001161</td>\n",
       "      <td>528.5</td>\n",
       "      <td>531.1</td>\n",
       "      <td>511.3</td>\n",
       "      <td>566.5</td>\n",
       "      <td>640.0</td>\n",
       "      <td>FACULDADE INCOMPLETA</td>\n",
       "      <td>9ANO INCOMPLETO</td>\n",
       "      <td>PROFESSOR, CORRETOR...</td>\n",
       "      <td>DIARISTA, VIGILANTE...</td>\n",
       "      <td>3.0</td>\n",
       "      <td>ATÉ 788</td>\n",
       "    </tr>\n",
       "    <tr>\n",
       "      <th>4</th>\n",
       "      <td>4</td>\n",
       "      <td>2015</td>\n",
       "      <td>150000001219</td>\n",
       "      <td>679.9</td>\n",
       "      <td>730.6</td>\n",
       "      <td>621.2</td>\n",
       "      <td>732.4</td>\n",
       "      <td>800.0</td>\n",
       "      <td>5ANO INCOMPLETO</td>\n",
       "      <td>9ANO INCOMPLETO</td>\n",
       "      <td>PADEIRO, MECÂNICO(A)</td>\n",
       "      <td>LAVRADOR...</td>\n",
       "      <td>5.0</td>\n",
       "      <td>ATÉ 3152</td>\n",
       "    </tr>\n",
       "    <tr>\n",
       "      <th>5</th>\n",
       "      <td>5</td>\n",
       "      <td>2015</td>\n",
       "      <td>150000002884</td>\n",
       "      <td>598.7</td>\n",
       "      <td>658.0</td>\n",
       "      <td>579.0</td>\n",
       "      <td>576.4</td>\n",
       "      <td>480.0</td>\n",
       "      <td>EM INCOMPLETO</td>\n",
       "      <td>9ANO INCOMPLETO</td>\n",
       "      <td>DIARISTA, VIGILANTE...</td>\n",
       "      <td>NÃO SEI</td>\n",
       "      <td>4.0</td>\n",
       "      <td>ATÉ 2364</td>\n",
       "    </tr>\n",
       "    <tr>\n",
       "      <th>6</th>\n",
       "      <td>6</td>\n",
       "      <td>2015</td>\n",
       "      <td>150000002510</td>\n",
       "      <td>652.1</td>\n",
       "      <td>671.9</td>\n",
       "      <td>609.3</td>\n",
       "      <td>685.5</td>\n",
       "      <td>820.0</td>\n",
       "      <td>PÓS INCOMPLETA</td>\n",
       "      <td>PÓS INCOMPLETA</td>\n",
       "      <td>MÉDICO, ENGENHEIRO...</td>\n",
       "      <td>MÉDICO, ENGENHEIRO...</td>\n",
       "      <td>3.0</td>\n",
       "      <td>ATÉ 5516</td>\n",
       "    </tr>\n",
       "  </tbody>\n",
       "</table>\n",
       "</div>"
      ],
      "text/plain": [
       "   Unnamed: 0  NU_ANO  NU_INSCRICAO  NU_NOTA_CN  NU_NOTA_CH  NU_NOTA_LC  \\\n",
       "0           0    2015  150000000376       657.4       705.3       591.1   \n",
       "2           2    2015  150000001161       528.5       531.1       511.3   \n",
       "4           4    2015  150000001219       679.9       730.6       621.2   \n",
       "5           5    2015  150000002884       598.7       658.0       579.0   \n",
       "6           6    2015  150000002510       652.1       671.9       609.3   \n",
       "\n",
       "   NU_NOTA_MT  NU_NOTA_REDACAO                  Q001             Q002  \\\n",
       "0       732.3            760.0                 NUNCA            NUNCA   \n",
       "2       566.5            640.0  FACULDADE INCOMPLETA  9ANO INCOMPLETO   \n",
       "4       732.4            800.0       5ANO INCOMPLETO  9ANO INCOMPLETO   \n",
       "5       576.4            480.0         EM INCOMPLETO  9ANO INCOMPLETO   \n",
       "6       685.5            820.0        PÓS INCOMPLETA   PÓS INCOMPLETA   \n",
       "\n",
       "                     Q003                    Q004  Q005      Q006  \n",
       "0             LAVRADOR...             LAVRADOR...   3.0  ATÉ 1572  \n",
       "2  PROFESSOR, CORRETOR...  DIARISTA, VIGILANTE...   3.0   ATÉ 788  \n",
       "4    PADEIRO, MECÂNICO(A)             LAVRADOR...   5.0  ATÉ 3152  \n",
       "5  DIARISTA, VIGILANTE...                 NÃO SEI   4.0  ATÉ 2364  \n",
       "6   MÉDICO, ENGENHEIRO...   MÉDICO, ENGENHEIRO...   3.0  ATÉ 5516  "
      ]
     },
     "execution_count": 5,
     "metadata": {},
     "output_type": "execute_result"
    }
   ],
   "source": [
    "DADOS15.Q001 = DADOS15.Q001.astype('category')\n",
    "DADOS15.Q001.cat.categories = (['NUNCA', '5ANO INCOMPLETO','9ANO INCOMPLETO','EM INCOMPLETO','FACULDADE INCOMPLETA','PÓS INCOMPLETA','COMPLETOU PÓS','NÃO SEI'])\n",
    "DADOS15.Q002 = DADOS15.Q002.astype('category')\n",
    "DADOS15.Q002.cat.categories = (['NUNCA', '5ANO INCOMPLETO','9ANO INCOMPLETO','EM INCOMPLETO','FACULDADE INCOMPLETA','PÓS INCOMPLETA','COMPLETOU PÓS','NÃO SEI'])\n",
    "DADOS15.Q003 = DADOS15.Q003.astype('category')\n",
    "DADOS15.Q003.cat.categories = (['LAVRADOR...', 'DIARISTA, VIGILANTE...','PADEIRO, MECÂNICO(A)','PROFESSOR, CORRETOR...','MÉDICO, ENGENHEIRO...','NÃO SEI'])\n",
    "DADOS15.Q004 = DADOS15.Q004.astype('category')\n",
    "DADOS15.Q004.cat.categories = (['LAVRADOR...', 'DIARISTA, VIGILANTE...','PADEIRO, MECÂNICO(A)','PROFESSOR, CORRETOR...','MÉDICO, ENGENHEIRO...','NÃO SEI'])\n",
    "DADOS15.Q006 = DADOS15.Q006.astype('category')\n",
    "DADOS15.Q006.cat.categories = (['NENHUMA', 'ATÉ 788','ATÉ 1182','ATÉ 1572','ATÉ1970','ATÉ 2364', 'ATÉ 3152','ATÉ 3940','ATÉ 4728','ATÉ 5516', 'ATÉ 6304', 'ATÉ 7092','ATÉ 7880','ATÉ 9456','ATÉ 11820', 'ATÉ 15760','ACIMA DE 15760'])\n",
    "\n",
    "\n",
    "DADOS15.head()"
   ]
  },
  {
   "cell_type": "markdown",
   "metadata": {},
   "source": [
    "O próximo passo é organizar a média das notas, já que, no enem elas são separadas. "
   ]
  },
  {
   "cell_type": "code",
   "execution_count": 6,
   "metadata": {
    "collapsed": true
   },
   "outputs": [],
   "source": [
    "MEDIA = 0\n",
    "MEDIA = (DADOS15.NU_NOTA_CN + DADOS15.NU_NOTA_CH + DADOS15.NU_NOTA_LC + DADOS15.NU_NOTA_MT + DADOS15.NU_NOTA_REDACAO)/5\n"
   ]
  },
  {
   "cell_type": "code",
   "execution_count": 7,
   "metadata": {
    "scrolled": true
   },
   "outputs": [
    {
     "name": "stderr",
     "output_type": "stream",
     "text": [
      "C:\\Users\\manucirne\\Anaconda3\\lib\\site-packages\\ipykernel\\__main__.py:1: SettingWithCopyWarning: \n",
      "A value is trying to be set on a copy of a slice from a DataFrame.\n",
      "Try using .loc[row_indexer,col_indexer] = value instead\n",
      "\n",
      "See the caveats in the documentation: http://pandas.pydata.org/pandas-docs/stable/indexing.html#indexing-view-versus-copy\n",
      "  if __name__ == '__main__':\n"
     ]
    }
   ],
   "source": [
    "DADOS15['MEDIA'] = MEDIA"
   ]
  },
  {
   "cell_type": "code",
   "execution_count": 8,
   "metadata": {
    "collapsed": true
   },
   "outputs": [],
   "source": [
    "DADOS15.columns = [\"contagem\",\"ANO\",\"INSCRICAO\",\"NOTA_CN\",\"NOTA_CH\",\"NOTA_LC\",\"NOTA_MT\",\"NOTA_REDACAO\",\"ESTUDO_PAI\",\"ESTUDO_MÃE\",\"TRABALHO_PAI\",\"TRABALHO_MAE\",\"MORADORES_CASA\",\"RENDA_FAMILIAR\",\"MEDIA_NOTAS\"]"
   ]
  },
  {
   "cell_type": "markdown",
   "metadata": {},
   "source": [
    "O próximos gráficos são exploratórios. A ideia é ver se existe alguma difereça perceptível entre a de notas de pessoas com rendas diferentes. Para isso eu dividi a renda em dois blocos (renda alta e renda baixa) e plotei dois histogramas que me mostraram a incidência das notas em cada uma das novas listas. Foi possível observar diferenças entre as duas diferentes faixas de renda. Ela não é grande, mas existe. Sendo assim, pode ser interessante fazer uma regressão e observar com mais atenção as relações visualizadas."
   ]
  },
  {
   "cell_type": "code",
   "execution_count": 9,
   "metadata": {},
   "outputs": [
    {
     "data": {
      "text/plain": [
       "<matplotlib.legend.Legend at 0x2722e7da940>"
      ]
     },
     "execution_count": 9,
     "metadata": {},
     "output_type": "execute_result"
    },
    {
     "data": {
      "image/png": "[encoded data removed]",
      "text/plain": [
       "<matplotlib.figure.Figure at 0x27274ebad30>"
      ]
     },
     "metadata": {},
     "output_type": "display_data"
    }
   ],
   "source": [
    "DADOS15_RB = DADOS15[((DADOS15.RENDA_FAMILIAR) == 'NENHUMA')|((DADOS15.RENDA_FAMILIAR) == 'ATÉ 788')|((DADOS15.RENDA_FAMILIAR) == 'ATÉ 1182')|((DADOS15.RENDA_FAMILIAR) == 'ATÉ 1572')|((DADOS15.RENDA_FAMILIAR) == 'ATÉ1970')|((DADOS15.RENDA_FAMILIAR) == 'ATÉ 2364')|((DADOS15.RENDA_FAMILIAR) == 'ATÉ 3152')|((DADOS15.RENDA_FAMILIAR) == 'ATÉ 3940')|((DADOS15.RENDA_FAMILIAR) == 'ATÉ 4728')|((DADOS15.RENDA_FAMILIAR) == 'ATÉ 5516')|((DADOS15.RENDA_FAMILIAR) == 'ATÉ 6304')|((DADOS15.RENDA_FAMILIAR) == 'ATÉ 7092')]\n",
    "DADOS15_RA = DADOS15[((DADOS15.RENDA_FAMILIAR) == 'ATÉ 7880')|((DADOS15.RENDA_FAMILIAR) == 'ATÉ 9456')|((DADOS15.RENDA_FAMILIAR) == 'ATÉ 11820')|((DADOS15.RENDA_FAMILIAR) == 'ATÉ 15760')|((DADOS15.RENDA_FAMILIAR) == 'ACIMA DE 15760')]\n",
    "PLOT1 = DADOS15_RA.MEDIA_NOTAS.plot.hist(bins=50,title='NOTA MEDIA X RENDA - 2015', alpha=0.7, label='RENDA ALTA')\n",
    "plt.legend()"
   ]
  },
  {
   "cell_type": "code",
   "execution_count": 10,
   "metadata": {},
   "outputs": [
    {
     "data": {
      "text/plain": [
       "<matplotlib.legend.Legend at 0x27274e94588>"
      ]
     },
     "execution_count": 10,
     "metadata": {},
     "output_type": "execute_result"
    },
    {
     "data": {
      "image/png": "[encoded data removed]",
      "text/plain": [
       "<matplotlib.figure.Figure at 0x27272bae748>"
      ]
     },
     "metadata": {},
     "output_type": "display_data"
    }
   ],
   "source": [
    "PLOT1 = DADOS15_RB.MEDIA_NOTAS.plot.hist(bins = 50,title='NOTA MEDIA X RENDA - 2015', alpha=0.7, label='RENDA BAIXA')\n",
    "plt.legend()"
   ]
  },
  {
   "cell_type": "markdown",
   "metadata": {},
   "source": [
    "O próximo passo foi transformar a variável renda qulitativa em uma variável quantitativa. Criei uma nova coluna para a renda quantitativa e atribui valores médios a cada faixa de renda descrita na coluna de renda qualitativa. "
   ]
  },
  {
   "cell_type": "code",
   "execution_count": 11,
   "metadata": {},
   "outputs": [
    {
     "name": "stderr",
     "output_type": "stream",
     "text": [
      "C:\\Users\\manucirne\\Anaconda3\\lib\\site-packages\\pandas\\core\\indexing.py:297: SettingWithCopyWarning: \n",
      "A value is trying to be set on a copy of a slice from a DataFrame.\n",
      "Try using .loc[row_indexer,col_indexer] = value instead\n",
      "\n",
      "See the caveats in the documentation: http://pandas.pydata.org/pandas-docs/stable/indexing.html#indexing-view-versus-copy\n",
      "  self.obj[key] = _infer_fill_value(value)\n",
      "C:\\Users\\manucirne\\Anaconda3\\lib\\site-packages\\pandas\\core\\indexing.py:477: SettingWithCopyWarning: \n",
      "A value is trying to be set on a copy of a slice from a DataFrame.\n",
      "Try using .loc[row_indexer,col_indexer] = value instead\n",
      "\n",
      "See the caveats in the documentation: http://pandas.pydata.org/pandas-docs/stable/indexing.html#indexing-view-versus-copy\n",
      "  self.obj[item] = s\n"
     ]
    }
   ],
   "source": [
    "DADOS15.loc[(DADOS15.RENDA_FAMILIAR=='NENHUMA'),'RENDAQT'] = 1\n",
    "DADOS15.loc[(DADOS15.RENDA_FAMILIAR=='ATÉ 788'),'RENDAQT'] = 394\n",
    "DADOS15.loc[(DADOS15.RENDA_FAMILIAR=='ATÉ 1182'),'RENDAQT'] = 985\n",
    "DADOS15.loc[(DADOS15.RENDA_FAMILIAR=='ATÉ 1572'),'RENDAQT'] = 1377\n",
    "DADOS15.loc[(DADOS15.RENDA_FAMILIAR=='ATÉ1970'),'RENDAQT'] = 1771\n",
    "DADOS15.loc[(DADOS15.RENDA_FAMILIAR=='ATÉ 2364'),'RENDAQT'] = 2167\n",
    "DADOS15.loc[(DADOS15.RENDA_FAMILIAR=='ATÉ 3152'),'RENDAQT'] = 2758\n",
    "DADOS15.loc[(DADOS15.RENDA_FAMILIAR=='ATÉ 3940'),'RENDAQT'] = 3546\n",
    "DADOS15.loc[(DADOS15.RENDA_FAMILIAR=='ATÉ 4728'),'RENDAQT'] = 4334\n",
    "DADOS15.loc[(DADOS15.RENDA_FAMILIAR=='ATÉ 5516'),'RENDAQT'] = 5122\n",
    "DADOS15.loc[(DADOS15.RENDA_FAMILIAR=='ATÉ 6304'),'RENDAQT'] = 5910\n",
    "DADOS15.loc[(DADOS15.RENDA_FAMILIAR=='ATÉ 7880'),'RENDAQT'] = 7092\n",
    "DADOS15.loc[(DADOS15.RENDA_FAMILIAR=='ATÉ 9456'),'RENDAQT'] = 8668\n",
    "DADOS15.loc[(DADOS15.RENDA_FAMILIAR=='ATÉ 11820'),'RENDAQT'] = 10638\n",
    "DADOS15.loc[(DADOS15.RENDA_FAMILIAR=='ATÉ 15760'),'RENDAQT'] = 13790\n",
    "DADOS15.loc[(DADOS15.RENDA_FAMILIAR=='MAIOR QUE 15760'),'RENDAQT'] = 20000 #ainda é um chute, mas será baseado com uma média da PNAD\n"
   ]
  },
  {
   "cell_type": "markdown",
   "metadata": {},
   "source": [
    "Aqui fiz uma nova coluna para uma variável de renda per capta. Ela foi feita para testar a possibilidade de minimizar um efeito visualmente estranho que obtive no gráfico da regressão, mas não funcionou como previsto, então acabei por não usá-lo."
   ]
  },
  {
   "cell_type": "code",
   "execution_count": 12,
   "metadata": {},
   "outputs": [
    {
     "name": "stderr",
     "output_type": "stream",
     "text": [
      "C:\\Users\\manucirne\\Anaconda3\\lib\\site-packages\\ipykernel\\__main__.py:1: SettingWithCopyWarning: \n",
      "A value is trying to be set on a copy of a slice from a DataFrame.\n",
      "Try using .loc[row_indexer,col_indexer] = value instead\n",
      "\n",
      "See the caveats in the documentation: http://pandas.pydata.org/pandas-docs/stable/indexing.html#indexing-view-versus-copy\n",
      "  if __name__ == '__main__':\n"
     ]
    }
   ],
   "source": [
    "DADOS15[\"RENDAPQ\"] = DADOS15.RENDAQT/DADOS15.MORADORES_CASA"
   ]
  },
  {
   "cell_type": "markdown",
   "metadata": {},
   "source": [
    "Nesse passo criei uma coluna para o logaritmo da renda familiar. Essa foi uma outra tentativa de minimizar a estranheza do gráfico, mas também não fez diferença no gráfico final."
   ]
  },
  {
   "cell_type": "code",
   "execution_count": 13,
   "metadata": {},
   "outputs": [
    {
     "name": "stderr",
     "output_type": "stream",
     "text": [
      "C:\\Users\\manucirne\\Anaconda3\\lib\\site-packages\\ipykernel\\__main__.py:1: SettingWithCopyWarning: \n",
      "A value is trying to be set on a copy of a slice from a DataFrame.\n",
      "Try using .loc[row_indexer,col_indexer] = value instead\n",
      "\n",
      "See the caveats in the documentation: http://pandas.pydata.org/pandas-docs/stable/indexing.html#indexing-view-versus-copy\n",
      "  if __name__ == '__main__':\n"
     ]
    }
   ],
   "source": [
    "DADOS15[\"RENDALOG\"] = np.log10(DADOS15.RENDAQT)"
   ]
  },
  {
   "cell_type": "code",
   "execution_count": 14,
   "metadata": {},
   "outputs": [],
   "source": [
    "DADOS15 = DADOS15[pd.notnull(DADOS15.RENDAQT)]"
   ]
  },
  {
   "cell_type": "code",
   "execution_count": 15,
   "metadata": {},
   "outputs": [
    {
     "name": "stderr",
     "output_type": "stream",
     "text": [
      "C:\\Users\\manucirne\\Anaconda3\\lib\\site-packages\\IPython\\core\\interactiveshell.py:2881: FutureWarning: The pandas.stats.ols module is deprecated and will be removed in a future version. We refer to external packages like statsmodels, see some examples here: http://www.statsmodels.org/stable/regression.html\n",
      "  exec(code_obj, self.user_global_ns, self.user_ns)\n"
     ]
    },
    {
     "data": {
      "text/plain": [
       "\n",
       "-------------------------Summary of Regression Analysis-------------------------\n",
       "\n",
       "Formula: Y ~ <x> + <intercept>\n",
       "\n",
       "Number of Observations:         5484904\n",
       "Number of Degrees of Freedom:   2\n",
       "\n",
       "R-squared:         0.1737\n",
       "Adj R-squared:     0.1737\n",
       "\n",
       "Rmse:             65.0609\n",
       "\n",
       "F-stat (1, 5484902): 1153012.8456, p-value:     0.0000\n",
       "\n",
       "Degrees of Freedom: model 1, resid 5484902\n",
       "\n",
       "-----------------------Summary of Estimated Coefficients------------------------\n",
       "      Variable       Coef    Std Err     t-stat    p-value    CI 2.5%   CI 97.5%\n",
       "--------------------------------------------------------------------------------\n",
       "             x     0.0142     0.0000    1073.78     0.0000     0.0142     0.0142\n",
       "     intercept   481.0277     0.0370   12986.56     0.0000   480.9551   481.1003\n",
       "---------------------------------End of Summary---------------------------------"
      ]
     },
     "execution_count": 15,
     "metadata": {},
     "output_type": "execute_result"
    }
   ],
   "source": [
    "pd.ols(x=DADOS15.RENDAQT, y=DADOS15.MEDIA_NOTAS)"
   ]
  },
  {
   "cell_type": "code",
   "execution_count": 16,
   "metadata": {},
   "outputs": [
    {
     "data": {
      "text/plain": [
       "<matplotlib.text.Text at 0x272308b61d0>"
      ]
     },
     "execution_count": 16,
     "metadata": {},
     "output_type": "execute_result"
    },
    {
     "data": {
      "image/png": "[encoded data removed]",
      "text/plain": [
       "<matplotlib.figure.Figure at 0x272307e3f28>"
      ]
     },
     "metadata": {},
     "output_type": "display_data"
    }
   ],
   "source": [
    "plt.scatter(DADOS15.RENDAQT,DADOS15.MEDIA_NOTAS, c='red', alpha=0.8)\n",
    "plt.plot((DADOS15.RENDAQT.min(),DADOS15.RENDAQT.max()),(0.0140*DADOS15.RENDAQT.min()+482.4972,0.0140*DADOS15.RENDAQT.max()+482.4972))\n",
    "plt.title('Nota média pela renda percapta')\n",
    "plt.xlabel('Renda familiar (reais)')\n",
    "plt.ylabel('Nota média do filho no ENEM(2015)')"
   ]
  },
  {
   "cell_type": "code",
   "execution_count": 17,
   "metadata": {},
   "outputs": [
    {
     "data": {
      "text/plain": [
       "0.41677459145959916"
      ]
     },
     "execution_count": 17,
     "metadata": {},
     "output_type": "execute_result"
    }
   ],
   "source": [
    "DADOS15.RENDAQT.corr( DADOS15.MEDIA_NOTAS)"
   ]
  },
  {
   "cell_type": "markdown",
   "metadata": {},
   "source": [
    "É possível observar que existe uma relação entre renda familiar e a nota do aluno no enem. A regressão não apresenta números muito altos para a relação, mas de fato ela existe. o R^2 é de 0.177 e o Pvalue de 0, o que deixa claro que essa relação não pode ser descartada. Ao mesmo tempo, o número de correleção mostrado acima, de 0.42 também é relevante e comprova a influência que a renda tem no melhor desempenho do aluno."
   ]
  },
  {
   "cell_type": "code",
   "execution_count": 18,
   "metadata": {
    "collapsed": true
   },
   "outputs": [],
   "source": [
    "DADOS15.loc[(DADOS15.ESTUDO_PAI=='NUNCA'),'ESTUDOPQT'] = 1\n",
    "DADOS15.loc[(DADOS15.ESTUDO_PAI=='5ANO INCOMPLETO'),'ESTUDOPQT'] = 4\n",
    "DADOS15.loc[(DADOS15.ESTUDO_PAI=='9ANO INCOMPLETO'),'ESTUDOPQT'] = 8\n",
    "DADOS15.loc[(DADOS15.ESTUDO_PAI=='EM INCOMPLETO'),'ESTUDOPQT'] = 11\n",
    "DADOS15.loc[(DADOS15.ESTUDO_PAI=='FACULDADE INCOMPLETA'),'ESTUDOPQT'] = 15\n",
    "DADOS15.loc[(DADOS15.ESTUDO_PAI=='PÓS INCOMPLETA'),'ESTUDOPQT'] = 17\n",
    "DADOS15.loc[(DADOS15.ESTUDO_PAI=='COMPLETOU PÓS'),'ESTUDOPQT'] = 19\n"
   ]
  },
  {
   "cell_type": "code",
   "execution_count": 19,
   "metadata": {},
   "outputs": [
    {
     "name": "stderr",
     "output_type": "stream",
     "text": [
      "C:\\Users\\manucirne\\Anaconda3\\lib\\site-packages\\IPython\\core\\interactiveshell.py:2881: FutureWarning: The pandas.stats.ols module is deprecated and will be removed in a future version. We refer to external packages like statsmodels, see some examples here: http://www.statsmodels.org/stable/regression.html\n",
      "  exec(code_obj, self.user_global_ns, self.user_ns)\n"
     ]
    },
    {
     "data": {
      "text/plain": [
       "\n",
       "-------------------------Summary of Regression Analysis-------------------------\n",
       "\n",
       "Formula: Y ~ <x> + <intercept>\n",
       "\n",
       "Number of Observations:         4972285\n",
       "Number of Degrees of Freedom:   2\n",
       "\n",
       "R-squared:         0.1090\n",
       "Adj R-squared:     0.1090\n",
       "\n",
       "Rmse:             67.9317\n",
       "\n",
       "F-stat (1, 4972283): 608442.0748, p-value:     0.0000\n",
       "\n",
       "Degrees of Freedom: model 1, resid 4972283\n",
       "\n",
       "-----------------------Summary of Estimated Coefficients------------------------\n",
       "      Variable       Coef    Std Err     t-stat    p-value    CI 2.5%   CI 97.5%\n",
       "--------------------------------------------------------------------------------\n",
       "             x     4.5233     0.0058     780.03     0.0000     4.5119     4.5347\n",
       "     intercept   464.1927     0.0653    7111.02     0.0000   464.0648   464.3206\n",
       "---------------------------------End of Summary---------------------------------"
      ]
     },
     "execution_count": 19,
     "metadata": {},
     "output_type": "execute_result"
    }
   ],
   "source": [
    "pd.ols(x=DADOS15.ESTUDOPQT, y=DADOS15.MEDIA_NOTAS)"
   ]
  },
  {
   "cell_type": "code",
   "execution_count": 20,
   "metadata": {},
   "outputs": [
    {
     "data": {
      "text/plain": [
       "<matplotlib.text.Text at 0x272eaad4be0>"
      ]
     },
     "execution_count": 20,
     "metadata": {},
     "output_type": "execute_result"
    },
    {
     "data": {
      "image/png": "[encoded data removed]",
      "text/plain": [
       "<matplotlib.figure.Figure at 0x27274ebac18>"
      ]
     },
     "metadata": {},
     "output_type": "display_data"
    }
   ],
   "source": [
    "plt.scatter(DADOS15.ESTUDOPQT,DADOS15.MEDIA_NOTAS, c='red', alpha=0.8)\n",
    "plt.plot((DADOS15.ESTUDOPQT.min(),DADOS15.ESTUDOPQT.max()),(4.5233*DADOS15.ESTUDOPQT.min()+464.1927,4.5233*DADOS15.ESTUDOPQT.max()+464.1927))\n",
    "plt.title('Nota média pela escolaridade do pai')\n",
    "plt.xlabel('Escolaridade do pai (ano até o qual cursou)')\n",
    "plt.ylabel('Nota média do filho no ENEM(2015)')"
   ]
  },
  {
   "cell_type": "code",
   "execution_count": 21,
   "metadata": {},
   "outputs": [
    {
     "data": {
      "text/plain": [
       "0.33019029570772551"
      ]
     },
     "execution_count": 21,
     "metadata": {},
     "output_type": "execute_result"
    }
   ],
   "source": [
    "DADOS15.ESTUDOPQT.corr( DADOS15.MEDIA_NOTAS)"
   ]
  },
  {
   "cell_type": "markdown",
   "metadata": {},
   "source": [
    "Assim como foi observado em relação à renda familiar, o estudo do pai tem influência na nota média do filhos e, apesar de os valores não serem muito altos, eles existem. O R^2 de 0.10,apesar de baixo, tem influência na nota do aluno e isso pode ser observado também pelo valor do Pvalue que é zero e da correlção que é igual a 0.33."
   ]
  },
  {
   "cell_type": "code",
   "execution_count": 22,
   "metadata": {},
   "outputs": [
    {
     "name": "stderr",
     "output_type": "stream",
     "text": [
      "C:\\Users\\manucirne\\Anaconda3\\lib\\site-packages\\IPython\\core\\interactiveshell.py:2881: FutureWarning: The pandas.stats.ols module is deprecated and will be removed in a future version. We refer to external packages like statsmodels, see some examples here: http://www.statsmodels.org/stable/regression.html\n",
      "  exec(code_obj, self.user_global_ns, self.user_ns)\n"
     ]
    },
    {
     "data": {
      "text/plain": [
       "\n",
       "-------------------------Summary of Regression Analysis-------------------------\n",
       "\n",
       "Formula: Y ~ <x> + <intercept>\n",
       "\n",
       "Number of Observations:         5278234\n",
       "Number of Degrees of Freedom:   2\n",
       "\n",
       "R-squared:         0.0956\n",
       "Adj R-squared:     0.0956\n",
       "\n",
       "Rmse:             68.0551\n",
       "\n",
       "F-stat (1, 5278232): 557866.4235, p-value:     0.0000\n",
       "\n",
       "Degrees of Freedom: model 1, resid 5278232\n",
       "\n",
       "-----------------------Summary of Estimated Coefficients------------------------\n",
       "      Variable       Coef    Std Err     t-stat    p-value    CI 2.5%   CI 97.5%\n",
       "--------------------------------------------------------------------------------\n",
       "             x     4.2628     0.0057     746.90     0.0000     4.2517     4.2740\n",
       "     intercept   461.2857     0.0698    6608.32     0.0000   461.1489   461.4225\n",
       "---------------------------------End of Summary---------------------------------"
      ]
     },
     "execution_count": 22,
     "metadata": {},
     "output_type": "execute_result"
    }
   ],
   "source": [
    "DADOS15.loc[(DADOS15.ESTUDO_MÃE=='NUNCA'),'ESTUDOMQT'] = 1\n",
    "DADOS15.loc[(DADOS15.ESTUDO_MÃE=='5ANO INCOMPLETO'),'ESTUDOMQT'] = 4\n",
    "DADOS15.loc[(DADOS15.ESTUDO_MÃE=='9ANO INCOMPLETO'),'ESTUDOMQT'] = 8\n",
    "DADOS15.loc[(DADOS15.ESTUDO_MÃE=='EM INCOMPLETO'),'ESTUDOMQT'] = 11\n",
    "DADOS15.loc[(DADOS15.ESTUDO_MÃE=='FACULDADE INCOMPLETA'),'ESTUDOMQT'] = 15\n",
    "DADOS15.loc[(DADOS15.ESTUDO_MÃE=='PÓS INCOMPLETA'),'ESTUDOMQT'] = 17\n",
    "DADOS15.loc[(DADOS15.ESTUDO_MÃE=='COMPLETOU PÓS'),'ESTUDOMQT'] = 19\n",
    "\n",
    "pd.ols(x=DADOS15.ESTUDOMQT, y=DADOS15.MEDIA_NOTAS)\n"
   ]
  },
  {
   "cell_type": "code",
   "execution_count": 23,
   "metadata": {},
   "outputs": [
    {
     "data": {
      "text/plain": [
       "<matplotlib.text.Text at 0x27230ae3588>"
      ]
     },
     "execution_count": 23,
     "metadata": {},
     "output_type": "execute_result"
    },
    {
     "data": {
      "image/png": "[encoded data removed]",
      "text/plain": [
       "<matplotlib.figure.Figure at 0x27230aa5400>"
      ]
     },
     "metadata": {},
     "output_type": "display_data"
    }
   ],
   "source": [
    "plt.scatter(DADOS15.ESTUDOMQT,DADOS15.MEDIA_NOTAS, c='red', alpha=0.8)\n",
    "plt.plot((DADOS15.ESTUDOMQT.min(),DADOS15.ESTUDOMQT.max()),(4.2628*DADOS15.ESTUDOMQT.min()+461.2857,4.2628*DADOS15.ESTUDOMQT.max()+461.2857))\n",
    "plt.title('nota média pela escolaridade da mãe')\n",
    "plt.xlabel('escolaridade da mãe (ano até o qual cursou)')\n",
    "plt.ylabel('nota média do filho no ENEM(2015)')"
   ]
  },
  {
   "cell_type": "code",
   "execution_count": 24,
   "metadata": {},
   "outputs": [
    {
     "data": {
      "text/plain": [
       "0.30917460014846421"
      ]
     },
     "execution_count": 24,
     "metadata": {},
     "output_type": "execute_result"
    }
   ],
   "source": [
    "DADOS15.ESTUDOMQT.corr( DADOS15.MEDIA_NOTAS)"
   ]
  },
  {
   "cell_type": "markdown",
   "metadata": {},
   "source": [
    "O estudo da mãe tem inflência muito semelhante ao estudo do pai. Não t.em R^2 alto, mas também não pode ser ignorado, visto que o Pvalue é zero e o coefixiente de correlação é 0.31. "
   ]
  },
  {
   "cell_type": "code",
   "execution_count": 25,
   "metadata": {
    "collapsed": true
   },
   "outputs": [],
   "source": [
    "DADOS15 = DADOS15[pd.notnull(DADOS15.RENDAQT)&pd.notnull(DADOS15.ESTUDOPQT)&pd.notnull(DADOS15.ESTUDOMQT)]"
   ]
  },
  {
   "cell_type": "code",
   "execution_count": 26,
   "metadata": {},
   "outputs": [
    {
     "data": {
      "text/html": [
       "<table class=\"simpletable\">\n",
       "<caption>OLS Regression Results</caption>\n",
       "<tr>\n",
       "  <th>Dep. Variable:</th>       <td>MEDIA_NOTAS</td>   <th>  R-squared:         </th>  <td>   0.218</td>  \n",
       "</tr>\n",
       "<tr>\n",
       "  <th>Model:</th>                   <td>OLS</td>       <th>  Adj. R-squared:    </th>  <td>   0.218</td>  \n",
       "</tr>\n",
       "<tr>\n",
       "  <th>Method:</th>             <td>Least Squares</td>  <th>  F-statistic:       </th>  <td>4.582e+05</td> \n",
       "</tr>\n",
       "<tr>\n",
       "  <th>Date:</th>             <td>Tue, 21 Nov 2017</td> <th>  Prob (F-statistic):</th>   <td>  0.00</td>   \n",
       "</tr>\n",
       "<tr>\n",
       "  <th>Time:</th>                 <td>17:19:15</td>     <th>  Log-Likelihood:    </th> <td>-2.7448e+07</td>\n",
       "</tr>\n",
       "<tr>\n",
       "  <th>No. Observations:</th>      <td>4925555</td>     <th>  AIC:               </th>  <td>5.490e+07</td> \n",
       "</tr>\n",
       "<tr>\n",
       "  <th>Df Residuals:</th>          <td>4925551</td>     <th>  BIC:               </th>  <td>5.490e+07</td> \n",
       "</tr>\n",
       "<tr>\n",
       "  <th>Df Model:</th>              <td>     3</td>      <th>                     </th>      <td> </td>     \n",
       "</tr>\n",
       "<tr>\n",
       "  <th>Covariance Type:</th>      <td>nonrobust</td>    <th>                     </th>      <td> </td>     \n",
       "</tr>\n",
       "</table>\n",
       "<table class=\"simpletable\">\n",
       "<tr>\n",
       "      <td></td>         <th>coef</th>     <th>std err</th>      <th>t</th>      <th>P>|t|</th> <th>[95.0% Conf. Int.]</th> \n",
       "</tr>\n",
       "<tr>\n",
       "  <th>const</th>     <td>  452.3101</td> <td>    0.071</td> <td> 6365.572</td> <td> 0.000</td> <td>  452.171   452.449</td>\n",
       "</tr>\n",
       "<tr>\n",
       "  <th>RENDAQT</th>   <td>    0.0109</td> <td> 1.47e-05</td> <td>  740.721</td> <td> 0.000</td> <td>    0.011     0.011</td>\n",
       "</tr>\n",
       "<tr>\n",
       "  <th>ESTUDOPQT</th> <td>    1.7494</td> <td>    0.007</td> <td>  248.490</td> <td> 0.000</td> <td>    1.736     1.763</td>\n",
       "</tr>\n",
       "<tr>\n",
       "  <th>ESTUDOMQT</th> <td>    1.6988</td> <td>    0.007</td> <td>  243.481</td> <td> 0.000</td> <td>    1.685     1.712</td>\n",
       "</tr>\n",
       "</table>\n",
       "<table class=\"simpletable\">\n",
       "<tr>\n",
       "  <th>Omnibus:</th>       <td>79094.083</td> <th>  Durbin-Watson:     </th>  <td>   1.959</td> \n",
       "</tr>\n",
       "<tr>\n",
       "  <th>Prob(Omnibus):</th>  <td> 0.000</td>   <th>  Jarque-Bera (JB):  </th> <td>109996.806</td>\n",
       "</tr>\n",
       "<tr>\n",
       "  <th>Skew:</th>           <td> 0.205</td>   <th>  Prob(JB):          </th>  <td>    0.00</td> \n",
       "</tr>\n",
       "<tr>\n",
       "  <th>Kurtosis:</th>       <td> 3.607</td>   <th>  Cond. No.          </th>  <td>7.17e+03</td> \n",
       "</tr>\n",
       "</table>"
      ],
      "text/plain": [
       "<class 'statsmodels.iolib.summary.Summary'>\n",
       "\"\"\"\n",
       "                            OLS Regression Results                            \n",
       "==============================================================================\n",
       "Dep. Variable:            MEDIA_NOTAS   R-squared:                       0.218\n",
       "Model:                            OLS   Adj. R-squared:                  0.218\n",
       "Method:                 Least Squares   F-statistic:                 4.582e+05\n",
       "Date:                Tue, 21 Nov 2017   Prob (F-statistic):               0.00\n",
       "Time:                        17:19:15   Log-Likelihood:            -2.7448e+07\n",
       "No. Observations:             4925555   AIC:                         5.490e+07\n",
       "Df Residuals:                 4925551   BIC:                         5.490e+07\n",
       "Df Model:                           3                                         \n",
       "Covariance Type:            nonrobust                                         \n",
       "==============================================================================\n",
       "                 coef    std err          t      P>|t|      [95.0% Conf. Int.]\n",
       "------------------------------------------------------------------------------\n",
       "const        452.3101      0.071   6365.572      0.000       452.171   452.449\n",
       "RENDAQT        0.0109   1.47e-05    740.721      0.000         0.011     0.011\n",
       "ESTUDOPQT      1.7494      0.007    248.490      0.000         1.736     1.763\n",
       "ESTUDOMQT      1.6988      0.007    243.481      0.000         1.685     1.712\n",
       "==============================================================================\n",
       "Omnibus:                    79094.083   Durbin-Watson:                   1.959\n",
       "Prob(Omnibus):                  0.000   Jarque-Bera (JB):           109996.806\n",
       "Skew:                           0.205   Prob(JB):                         0.00\n",
       "Kurtosis:                       3.607   Cond. No.                     7.17e+03\n",
       "==============================================================================\n",
       "\n",
       "Warnings:\n",
       "[1] Standard Errors assume that the covariance matrix of the errors is correctly specified.\n",
       "[2] The condition number is large, 7.17e+03. This might indicate that there are\n",
       "strong multicollinearity or other numerical problems.\n",
       "\"\"\""
      ]
     },
     "execution_count": 26,
     "metadata": {},
     "output_type": "execute_result"
    }
   ],
   "source": [
    "import statsmodels.api as sm\n",
    "Y = DADOS15['MEDIA_NOTAS']\n",
    "X = DADOS15[['RENDAQT','ESTUDOPQT','ESTUDOMQT']]\n",
    "X = sm.add_constant(X)\n",
    "model = sm.OLS(Y,X)\n",
    "results = model.fit()\n",
    "results.summary()"
   ]
  },
  {
   "cell_type": "markdown",
   "metadata": {},
   "source": [
    "Então, para enxergar os dados sob uma nova perspectiva resolvi fazer uma regressão múltipla e testar todas as relação ao mesmo tempo. A experiência foi interessante, visto que os valores que atribuem relevância ao resultado aumentaram mostrando que a conjunção desses fatores tem maior inflência na nota do aluno que apenas um deles isolado. O R^2 aumentou significativamente e o P-value continua igual a 0, o que também comprova a relevância da regressão. Mesmo assim essa não é uma regressão robusta e não pode ser considerada de alta relevância."
   ]
  },
  {
   "cell_type": "markdown",
   "metadata": {},
   "source": [
    "Para contiunuar o trabalho sob a mesma perspectiva resolvi testar mais um ano de enem e ver como esses mesmos fatores se comportaram em 2014."
   ]
  },
  {
   "cell_type": "code",
   "execution_count": 27,
   "metadata": {
    "collapsed": true
   },
   "outputs": [],
   "source": [
    "dados14 = pd.read_csv('dados14resumo.csv', encoding=\"latin1\", sep=',')"
   ]
  },
  {
   "cell_type": "code",
   "execution_count": 28,
   "metadata": {},
   "outputs": [
    {
     "name": "stderr",
     "output_type": "stream",
     "text": [
      "C:\\Users\\manucirne\\Anaconda3\\lib\\site-packages\\pandas\\core\\generic.py:2773: SettingWithCopyWarning: \n",
      "A value is trying to be set on a copy of a slice from a DataFrame.\n",
      "Try using .loc[row_indexer,col_indexer] = value instead\n",
      "\n",
      "See the caveats in the documentation: http://pandas.pydata.org/pandas-docs/stable/indexing.html#indexing-view-versus-copy\n",
      "  self[name] = value\n"
     ]
    },
    {
     "data": {
      "text/html": [
       "<div>\n",
       "<table border=\"1\" class=\"dataframe\">\n",
       "  <thead>\n",
       "    <tr style=\"text-align: right;\">\n",
       "      <th></th>\n",
       "      <th>Unnamed: 0</th>\n",
       "      <th>NU_ANO</th>\n",
       "      <th>NU_INSCRICAO</th>\n",
       "      <th>NOTA_CN</th>\n",
       "      <th>NOTA_CH</th>\n",
       "      <th>NOTA_LC</th>\n",
       "      <th>NOTA_MT</th>\n",
       "      <th>NU_NOTA_REDACAO</th>\n",
       "      <th>Q001</th>\n",
       "      <th>Q002</th>\n",
       "      <th>Q003</th>\n",
       "      <th>Q004</th>\n",
       "    </tr>\n",
       "  </thead>\n",
       "  <tbody>\n",
       "    <tr>\n",
       "      <th>0</th>\n",
       "      <td>0</td>\n",
       "      <td>2014</td>\n",
       "      <td>140000000001</td>\n",
       "      <td>536.9</td>\n",
       "      <td>570.2</td>\n",
       "      <td>576.1</td>\n",
       "      <td>478.3</td>\n",
       "      <td>560</td>\n",
       "      <td>1 À 4</td>\n",
       "      <td>EM COMPLETO</td>\n",
       "      <td>ATÉ1970</td>\n",
       "      <td>4</td>\n",
       "    </tr>\n",
       "    <tr>\n",
       "      <th>1</th>\n",
       "      <td>1</td>\n",
       "      <td>2014</td>\n",
       "      <td>140000000002</td>\n",
       "      <td>458.2</td>\n",
       "      <td>519.5</td>\n",
       "      <td>525.8</td>\n",
       "      <td>484.2</td>\n",
       "      <td>240</td>\n",
       "      <td>EM COMPLETO</td>\n",
       "      <td>5 A 9</td>\n",
       "      <td>ATÉ 1182</td>\n",
       "      <td>10</td>\n",
       "    </tr>\n",
       "    <tr>\n",
       "      <th>2</th>\n",
       "      <td>2</td>\n",
       "      <td>2014</td>\n",
       "      <td>140000000003</td>\n",
       "      <td>575.9</td>\n",
       "      <td>634.7</td>\n",
       "      <td>541.5</td>\n",
       "      <td>617.6</td>\n",
       "      <td>600</td>\n",
       "      <td>5 A 9</td>\n",
       "      <td>PÓS</td>\n",
       "      <td>ATÉ 6304</td>\n",
       "      <td>4</td>\n",
       "    </tr>\n",
       "    <tr>\n",
       "      <th>3</th>\n",
       "      <td>3</td>\n",
       "      <td>2014</td>\n",
       "      <td>140000000004</td>\n",
       "      <td>482.6</td>\n",
       "      <td>475.8</td>\n",
       "      <td>499.7</td>\n",
       "      <td>381.3</td>\n",
       "      <td>640</td>\n",
       "      <td>5 A 9</td>\n",
       "      <td>5 A 9</td>\n",
       "      <td>ATÉ 1182</td>\n",
       "      <td>5</td>\n",
       "    </tr>\n",
       "    <tr>\n",
       "      <th>4</th>\n",
       "      <td>4</td>\n",
       "      <td>2014</td>\n",
       "      <td>140000000005</td>\n",
       "      <td>612.6</td>\n",
       "      <td>700.7</td>\n",
       "      <td>596.5</td>\n",
       "      <td>648.2</td>\n",
       "      <td>580</td>\n",
       "      <td>1 À 4</td>\n",
       "      <td>EM COMPLETO</td>\n",
       "      <td>ATÉ 2364</td>\n",
       "      <td>4</td>\n",
       "    </tr>\n",
       "  </tbody>\n",
       "</table>\n",
       "</div>"
      ],
      "text/plain": [
       "   Unnamed: 0  NU_ANO  NU_INSCRICAO  NOTA_CN  NOTA_CH  NOTA_LC  NOTA_MT  \\\n",
       "0           0    2014  140000000001    536.9    570.2    576.1    478.3   \n",
       "1           1    2014  140000000002    458.2    519.5    525.8    484.2   \n",
       "2           2    2014  140000000003    575.9    634.7    541.5    617.6   \n",
       "3           3    2014  140000000004    482.6    475.8    499.7    381.3   \n",
       "4           4    2014  140000000005    612.6    700.7    596.5    648.2   \n",
       "\n",
       "   NU_NOTA_REDACAO         Q001         Q002      Q003  Q004  \n",
       "0              560        1 À 4  EM COMPLETO   ATÉ1970     4  \n",
       "1              240  EM COMPLETO        5 A 9  ATÉ 1182    10  \n",
       "2              600        5 A 9          PÓS  ATÉ 6304     4  \n",
       "3              640        5 A 9        5 A 9  ATÉ 1182     5  \n",
       "4              580        1 À 4  EM COMPLETO  ATÉ 2364     4  "
      ]
     },
     "execution_count": 28,
     "metadata": {},
     "output_type": "execute_result"
    }
   ],
   "source": [
    "DADOS14 = dados14[pd.notnull(dados14.NU_ANO)&pd.notnull(dados14.NU_INSCRICAO)&pd.notnull(dados14.NOTA_CN)&pd.notnull(dados14.NOTA_CH)&pd.notnull(dados14.NOTA_LC)&pd.notnull(dados14.NOTA_MT)&pd.notnull(dados14.Q001)&pd.notnull(dados14.Q002)&pd.notnull(dados14.Q003)&pd.notnull(dados14.Q004)]\n",
    "DADOS14.Q001 = DADOS14.Q001.astype('category')\n",
    "DADOS14.Q001.cat.categories = (['NUNCA', '1 À 4','5 A 9','EM INCOMPLETO','EM COMPLETO','FACULDADE INCOMPLETA', 'FACULDADE COMPLETA','PÓS','NÃO SEI'])\n",
    "DADOS14.Q002 = DADOS14.Q002.astype('category')\n",
    "DADOS14.Q002.cat.categories = (['NUNCA', '1 À 4','5 A 9','EM INCOMPLETO','EM COMPLETO','FACULDADE INCOMPLETA', 'FACULDADE COMPLETA','PÓS','NÃO SEI'])\n",
    "DADOS14.Q003 = DADOS14.Q003.astype('category')\n",
    "DADOS14.Q003.cat.categories = (['NENHUMA', 'ATÉ 788','ATÉ 1182','ATÉ 1572','ATÉ1970','ATÉ 2364', 'ATÉ 3152','ATÉ 3940','ATÉ 4728','ATÉ 5516', 'ATÉ 6304', 'ATÉ 7092','ATÉ 7880','ATÉ 9456','ATÉ 11820', 'ATÉ 15760','ACIMA DE 15760'])\n",
    "\n",
    "\n",
    "DADOS14.head()"
   ]
  },
  {
   "cell_type": "code",
   "execution_count": 29,
   "metadata": {},
   "outputs": [
    {
     "name": "stderr",
     "output_type": "stream",
     "text": [
      "C:\\Users\\manucirne\\Anaconda3\\lib\\site-packages\\ipykernel\\__main__.py:4: SettingWithCopyWarning: \n",
      "A value is trying to be set on a copy of a slice from a DataFrame.\n",
      "Try using .loc[row_indexer,col_indexer] = value instead\n",
      "\n",
      "See the caveats in the documentation: http://pandas.pydata.org/pandas-docs/stable/indexing.html#indexing-view-versus-copy\n"
     ]
    }
   ],
   "source": [
    "MEDIA = 0\n",
    "MEDIA = (DADOS14.NOTA_CN + DADOS14.NOTA_CH + DADOS14.NOTA_LC + DADOS14.NOTA_MT + DADOS14.NU_NOTA_REDACAO)/5\n",
    "MEDIA\n",
    "DADOS14['MEDIA'] = MEDIA\n"
   ]
  },
  {
   "cell_type": "code",
   "execution_count": 30,
   "metadata": {
    "collapsed": true
   },
   "outputs": [],
   "source": [
    "DADOS14.columns = [\"CONTAGEM\",\"ANO\",\"INSCRICAO\",\"NOTA_CN\",\"NOTA_CH\",\"NOTA_LC\",\"NOTA_MT\",\"NOTA_REDACAO\",\"ESTUDO_PAI\",\"ESTUDO_MÃE\",\"RENDA_FAMILIAR\",\"MORADORES\",\"MEDIA_NOTAS\"]"
   ]
  },
  {
   "cell_type": "code",
   "execution_count": 31,
   "metadata": {},
   "outputs": [
    {
     "name": "stderr",
     "output_type": "stream",
     "text": [
      "C:\\Users\\manucirne\\Anaconda3\\lib\\site-packages\\pandas\\core\\indexing.py:297: SettingWithCopyWarning: \n",
      "A value is trying to be set on a copy of a slice from a DataFrame.\n",
      "Try using .loc[row_indexer,col_indexer] = value instead\n",
      "\n",
      "See the caveats in the documentation: http://pandas.pydata.org/pandas-docs/stable/indexing.html#indexing-view-versus-copy\n",
      "  self.obj[key] = _infer_fill_value(value)\n",
      "C:\\Users\\manucirne\\Anaconda3\\lib\\site-packages\\pandas\\core\\indexing.py:477: SettingWithCopyWarning: \n",
      "A value is trying to be set on a copy of a slice from a DataFrame.\n",
      "Try using .loc[row_indexer,col_indexer] = value instead\n",
      "\n",
      "See the caveats in the documentation: http://pandas.pydata.org/pandas-docs/stable/indexing.html#indexing-view-versus-copy\n",
      "  self.obj[item] = s\n"
     ]
    }
   ],
   "source": [
    "DADOS14.loc[(DADOS14.RENDA_FAMILIAR=='NENHUMA'),'RENDAQT'] = 1\n",
    "DADOS14.loc[(DADOS14.RENDA_FAMILIAR=='ATÉ 788'),'RENDAQT'] = 394\n",
    "DADOS14.loc[(DADOS14.RENDA_FAMILIAR=='ATÉ 1182'),'RENDAQT'] = 985\n",
    "DADOS14.loc[(DADOS14.RENDA_FAMILIAR=='ATÉ 1572'),'RENDAQT'] = 1377\n",
    "DADOS14.loc[(DADOS14.RENDA_FAMILIAR=='ATÉ1970'),'RENDAQT'] = 1771\n",
    "DADOS14.loc[(DADOS14.RENDA_FAMILIAR=='ATÉ 2364'),'RENDAQT'] = 2167\n",
    "DADOS14.loc[(DADOS14.RENDA_FAMILIAR=='ATÉ 3152'),'RENDAQT'] = 2758\n",
    "DADOS14.loc[(DADOS14.RENDA_FAMILIAR=='ATÉ 3940'),'RENDAQT'] = 3546\n",
    "DADOS14.loc[(DADOS14.RENDA_FAMILIAR=='ATÉ 4728'),'RENDAQT'] = 4334\n",
    "DADOS14.loc[(DADOS14.RENDA_FAMILIAR=='ATÉ 5516'),'RENDAQT'] = 5122\n",
    "DADOS14.loc[(DADOS14.RENDA_FAMILIAR=='ATÉ 6304'),'RENDAQT'] = 5910\n",
    "DADOS14.loc[(DADOS14.RENDA_FAMILIAR=='ATÉ 7880'),'RENDAQT'] = 7092\n",
    "DADOS14.loc[(DADOS14.RENDA_FAMILIAR=='ATÉ 9456'),'RENDAQT'] = 8668\n",
    "DADOS14.loc[(DADOS14.RENDA_FAMILIAR=='ATÉ 11820'),'RENDAQT'] = 10638\n",
    "DADOS14.loc[(DADOS14.RENDA_FAMILIAR=='ATÉ 15760'),'RENDAQT'] = 13790\n",
    "DADOS14.loc[(DADOS14.RENDA_FAMILIAR=='MAIOR QUE 15760'),'RENDAQT'] = 20000 #ainda é um chute, mas será baseado com uma média da PNAD\n"
   ]
  },
  {
   "cell_type": "code",
   "execution_count": 32,
   "metadata": {},
   "outputs": [
    {
     "name": "stderr",
     "output_type": "stream",
     "text": [
      "C:\\Users\\manucirne\\Anaconda3\\lib\\site-packages\\IPython\\core\\interactiveshell.py:2881: FutureWarning: The pandas.stats.ols module is deprecated and will be removed in a future version. We refer to external packages like statsmodels, see some examples here: http://www.statsmodels.org/stable/regression.html\n",
      "  exec(code_obj, self.user_global_ns, self.user_ns)\n"
     ]
    },
    {
     "data": {
      "text/plain": [
       "\n",
       "-------------------------Summary of Regression Analysis-------------------------\n",
       "\n",
       "Formula: Y ~ <x> + <intercept>\n",
       "\n",
       "Number of Observations:         5835508\n",
       "Number of Degrees of Freedom:   2\n",
       "\n",
       "R-squared:         0.1702\n",
       "Adj R-squared:     0.1702\n",
       "\n",
       "Rmse:             73.1158\n",
       "\n",
       "F-stat (1, 5835506): 1196605.5679, p-value:     0.0000\n",
       "\n",
       "Degrees of Freedom: model 1, resid 5835506\n",
       "\n",
       "-----------------------Summary of Estimated Coefficients------------------------\n",
       "      Variable       Coef    Std Err     t-stat    p-value    CI 2.5%   CI 97.5%\n",
       "--------------------------------------------------------------------------------\n",
       "             x     0.0168     0.0000    1093.89     0.0000     0.0167     0.0168\n",
       "     intercept   466.3892     0.0399   11701.52     0.0000   466.3110   466.4673\n",
       "---------------------------------End of Summary---------------------------------"
      ]
     },
     "execution_count": 32,
     "metadata": {},
     "output_type": "execute_result"
    }
   ],
   "source": [
    "pd.ols(x=DADOS14.RENDAQT, y=DADOS14.MEDIA_NOTAS)"
   ]
  },
  {
   "cell_type": "code",
   "execution_count": 41,
   "metadata": {},
   "outputs": [
    {
     "data": {
      "text/plain": [
       "<matplotlib.text.Text at 0x27251203a58>"
      ]
     },
     "execution_count": 41,
     "metadata": {},
     "output_type": "execute_result"
    },
    {
     "data": {
      "image/png": "[encoded data removed]",
      "text/plain": [
       "<matplotlib.figure.Figure at 0x2725119d908>"
      ]
     },
     "metadata": {},
     "output_type": "display_data"
    }
   ],
   "source": [
    "plt.scatter(DADOS14.RENDAQT,DADOS14.MEDIA_NOTAS, c='red', alpha=0.8)\n",
    "plt.plot((DADOS14.RENDAQT.min(),DADOS14.RENDAQT.max()),(0.0168*DADOS14.RENDAQT.min()+466.3892,0.0168*DADOS14.RENDAQT.max()+466.3892))\n",
    "plt.title('nota média pela renda familiar')\n",
    "plt.xlabel('renda familiar (reais)')\n",
    "plt.ylabel('nota média do filho no ENEM(2014)')"
   ]
  },
  {
   "cell_type": "code",
   "execution_count": 34,
   "metadata": {},
   "outputs": [
    {
     "name": "stderr",
     "output_type": "stream",
     "text": [
      "C:\\Users\\manucirne\\Anaconda3\\lib\\site-packages\\pandas\\core\\indexing.py:297: SettingWithCopyWarning: \n",
      "A value is trying to be set on a copy of a slice from a DataFrame.\n",
      "Try using .loc[row_indexer,col_indexer] = value instead\n",
      "\n",
      "See the caveats in the documentation: http://pandas.pydata.org/pandas-docs/stable/indexing.html#indexing-view-versus-copy\n",
      "  self.obj[key] = _infer_fill_value(value)\n",
      "C:\\Users\\manucirne\\Anaconda3\\lib\\site-packages\\pandas\\core\\indexing.py:477: SettingWithCopyWarning: \n",
      "A value is trying to be set on a copy of a slice from a DataFrame.\n",
      "Try using .loc[row_indexer,col_indexer] = value instead\n",
      "\n",
      "See the caveats in the documentation: http://pandas.pydata.org/pandas-docs/stable/indexing.html#indexing-view-versus-copy\n",
      "  self.obj[item] = s\n"
     ]
    }
   ],
   "source": [
    "DADOS14.loc[(DADOS14.ESTUDO_PAI=='NUNCA'),'ESTUDOPQT'] = 1\n",
    "DADOS14.loc[(DADOS14.ESTUDO_PAI=='1 À 4'),'ESTUDOPQT'] = 4\n",
    "DADOS14.loc[(DADOS14.ESTUDO_PAI=='5 A 9'),'ESTUDOPQT'] = 8\n",
    "DADOS14.loc[(DADOS14.ESTUDO_PAI=='EM INCOMPLETO'),'ESTUDOPQT'] = 11\n",
    "DADOS14.loc[(DADOS14.ESTUDO_PAI=='EM COMPLETO'),'ESTUDOPQT'] = 12\n",
    "DADOS14.loc[(DADOS14.ESTUDO_PAI=='FACULDADE INCOMPLETA'),'ESTUDOPQT'] = 15\n",
    "DADOS14.loc[(DADOS14.ESTUDO_PAI=='FACULDADE COMPLETA'),'ESTUDOPQT'] = 17\n",
    "DADOS14.loc[(DADOS14.ESTUDO_PAI=='PÓS'),'ESTUDOPQT'] = 19\n",
    "\n"
   ]
  },
  {
   "cell_type": "code",
   "execution_count": 43,
   "metadata": {},
   "outputs": [
    {
     "name": "stderr",
     "output_type": "stream",
     "text": [
      "C:\\Users\\manucirne\\Anaconda3\\lib\\site-packages\\IPython\\core\\interactiveshell.py:2881: FutureWarning: The pandas.stats.ols module is deprecated and will be removed in a future version. We refer to external packages like statsmodels, see some examples here: http://www.statsmodels.org/stable/regression.html\n",
      "  exec(code_obj, self.user_global_ns, self.user_ns)\n"
     ]
    },
    {
     "data": {
      "text/plain": [
       "\n",
       "-------------------------Summary of Regression Analysis-------------------------\n",
       "\n",
       "Formula: Y ~ <x> + <intercept>\n",
       "\n",
       "Number of Observations:         5239438\n",
       "Number of Degrees of Freedom:   2\n",
       "\n",
       "R-squared:         0.1244\n",
       "Adj R-squared:     0.1244\n",
       "\n",
       "Rmse:             75.3824\n",
       "\n",
       "F-stat (1, 5239436): 744642.9502, p-value:     0.0000\n",
       "\n",
       "Degrees of Freedom: model 1, resid 5239436\n",
       "\n",
       "-----------------------Summary of Estimated Coefficients------------------------\n",
       "      Variable       Coef    Std Err     t-stat    p-value    CI 2.5%   CI 97.5%\n",
       "--------------------------------------------------------------------------------\n",
       "             x     5.8867     0.0068     862.93     0.0000     5.8733     5.9000\n",
       "     intercept   447.4805     0.0665    6725.90     0.0000   447.3501   447.6109\n",
       "---------------------------------End of Summary---------------------------------"
      ]
     },
     "execution_count": 43,
     "metadata": {},
     "output_type": "execute_result"
    }
   ],
   "source": [
    "pd.ols(x=DADOS14.ESTUDOPQT, y=DADOS14.MEDIA_NOTAS)"
   ]
  },
  {
   "cell_type": "code",
   "execution_count": 48,
   "metadata": {},
   "outputs": [
    {
     "data": {
      "text/plain": [
       "<matplotlib.text.Text at 0x27251f785f8>"
      ]
     },
     "execution_count": 48,
     "metadata": {},
     "output_type": "execute_result"
    },
    {
     "data": {
      "image/png": "[encoded data removed]",
      "text/plain": [
       "<matplotlib.figure.Figure at 0x27251fa94a8>"
      ]
     },
     "metadata": {},
     "output_type": "display_data"
    }
   ],
   "source": [
    "plt.scatter(DADOS14.ESTUDOPQT,DADOS14.MEDIA_NOTAS, c='red', alpha=0.8)\n",
    "plt.plot((DADOS14.ESTUDOPQT.min(),DADOS14.ESTUDOPQT.max()),(5.8867*DADOS14.ESTUDOPQT.min()+447.4805,5.8867*DADOS14.ESTUDOPQT.max()+447.4805))\n",
    "plt.title('nota média pelo estudo do pai')\n",
    "plt.xlabel('Estudo do pai')\n",
    "plt.ylabel('nota média do filho no ENEM(2014)')"
   ]
  },
  {
   "cell_type": "code",
   "execution_count": 35,
   "metadata": {},
   "outputs": [
    {
     "name": "stderr",
     "output_type": "stream",
     "text": [
      "C:\\Users\\manucirne\\Anaconda3\\lib\\site-packages\\pandas\\core\\indexing.py:297: SettingWithCopyWarning: \n",
      "A value is trying to be set on a copy of a slice from a DataFrame.\n",
      "Try using .loc[row_indexer,col_indexer] = value instead\n",
      "\n",
      "See the caveats in the documentation: http://pandas.pydata.org/pandas-docs/stable/indexing.html#indexing-view-versus-copy\n",
      "  self.obj[key] = _infer_fill_value(value)\n",
      "C:\\Users\\manucirne\\Anaconda3\\lib\\site-packages\\pandas\\core\\indexing.py:477: SettingWithCopyWarning: \n",
      "A value is trying to be set on a copy of a slice from a DataFrame.\n",
      "Try using .loc[row_indexer,col_indexer] = value instead\n",
      "\n",
      "See the caveats in the documentation: http://pandas.pydata.org/pandas-docs/stable/indexing.html#indexing-view-versus-copy\n",
      "  self.obj[item] = s\n"
     ]
    }
   ],
   "source": [
    "DADOS14.loc[(DADOS14.ESTUDO_MÃE=='NUNCA'),'ESTUDOMQT'] = 1\n",
    "DADOS14.loc[(DADOS14.ESTUDO_MÃE=='1 À 4'),'ESTUDOMQT'] = 4\n",
    "DADOS14.loc[(DADOS14.ESTUDO_MÃE=='5 A 9'),'ESTUDOMQT'] = 8\n",
    "DADOS14.loc[(DADOS14.ESTUDO_MÃE=='EM INCOMPLETO'),'ESTUDOMQT'] = 11\n",
    "DADOS14.loc[(DADOS14.ESTUDO_MÃE=='EM COMPLETO'),'ESTUDOMQT'] = 12\n",
    "DADOS14.loc[(DADOS14.ESTUDO_MÃE=='FACULDADE INCOMPLETA'),'ESTUDOMQT'] = 15\n",
    "DADOS14.loc[(DADOS14.ESTUDO_MÃE=='FACULDADE COMPLETA'),'ESTUDOMQT'] = 17\n",
    "DADOS14.loc[(DADOS14.ESTUDO_MÃE=='PÓS'),'ESTUDOMQT'] = 19"
   ]
  },
  {
   "cell_type": "code",
   "execution_count": 46,
   "metadata": {},
   "outputs": [
    {
     "name": "stderr",
     "output_type": "stream",
     "text": [
      "C:\\Users\\manucirne\\Anaconda3\\lib\\site-packages\\IPython\\core\\interactiveshell.py:2881: FutureWarning: The pandas.stats.ols module is deprecated and will be removed in a future version. We refer to external packages like statsmodels, see some examples here: http://www.statsmodels.org/stable/regression.html\n",
      "  exec(code_obj, self.user_global_ns, self.user_ns)\n"
     ]
    },
    {
     "data": {
      "text/plain": [
       "\n",
       "-------------------------Summary of Regression Analysis-------------------------\n",
       "\n",
       "Formula: Y ~ <x> + <intercept>\n",
       "\n",
       "Number of Observations:         5239438\n",
       "Number of Degrees of Freedom:   2\n",
       "\n",
       "R-squared:         0.1126\n",
       "Adj R-squared:     0.1126\n",
       "\n",
       "Rmse:             75.8907\n",
       "\n",
       "F-stat (1, 5239436): 664743.2884, p-value:     0.0000\n",
       "\n",
       "Degrees of Freedom: model 1, resid 5239436\n",
       "\n",
       "-----------------------Summary of Estimated Coefficients------------------------\n",
       "      Variable       Coef    Std Err     t-stat    p-value    CI 2.5%   CI 97.5%\n",
       "--------------------------------------------------------------------------------\n",
       "             x     5.4591     0.0067     815.32     0.0000     5.4459     5.4722\n",
       "     intercept   445.2572     0.0720    6184.23     0.0000   445.1161   445.3983\n",
       "---------------------------------End of Summary---------------------------------"
      ]
     },
     "execution_count": 46,
     "metadata": {},
     "output_type": "execute_result"
    }
   ],
   "source": [
    "pd.ols(x=DADOS14.ESTUDOMQT, y=DADOS14.MEDIA_NOTAS)"
   ]
  },
  {
   "cell_type": "code",
   "execution_count": 49,
   "metadata": {},
   "outputs": [
    {
     "data": {
      "text/plain": [
       "<matplotlib.text.Text at 0x272520424a8>"
      ]
     },
     "execution_count": 49,
     "metadata": {},
     "output_type": "execute_result"
    },
    {
     "data": {
      "image/png": "[encoded data removed]",
      "text/plain": [
       "<matplotlib.figure.Figure at 0x2725201e710>"
      ]
     },
     "metadata": {},
     "output_type": "display_data"
    }
   ],
   "source": [
    "plt.scatter(DADOS14.ESTUDOMQT,DADOS14.MEDIA_NOTAS, c='red', alpha=0.8)\n",
    "plt.plot((DADOS14.ESTUDOMQT.min(),DADOS14.ESTUDOMQT.max()),(5.4591*DADOS14.ESTUDOMQT.min()+445.2572,5.4591*DADOS14.ESTUDOMQT.max()+445.2572))\n",
    "plt.title('nota média pelo estudo da mãe')\n",
    "plt.xlabel('Estudo da mãe')\n",
    "plt.ylabel('nota média do filho no ENEM(2014)')"
   ]
  },
  {
   "cell_type": "code",
   "execution_count": 36,
   "metadata": {},
   "outputs": [
    {
     "data": {
      "text/html": [
       "<table class=\"simpletable\">\n",
       "<caption>OLS Regression Results</caption>\n",
       "<tr>\n",
       "  <th>Dep. Variable:</th>       <td>MEDIA_NOTAS</td>   <th>  R-squared:         </th>  <td>   0.220</td>  \n",
       "</tr>\n",
       "<tr>\n",
       "  <th>Model:</th>                   <td>OLS</td>       <th>  Adj. R-squared:    </th>  <td>   0.220</td>  \n",
       "</tr>\n",
       "<tr>\n",
       "  <th>Method:</th>             <td>Least Squares</td>  <th>  F-statistic:       </th>  <td>4.922e+05</td> \n",
       "</tr>\n",
       "<tr>\n",
       "  <th>Date:</th>             <td>Tue, 21 Nov 2017</td> <th>  Prob (F-statistic):</th>   <td>  0.00</td>   \n",
       "</tr>\n",
       "<tr>\n",
       "  <th>Time:</th>                 <td>17:21:05</td>     <th>  Log-Likelihood:    </th> <td>-2.9780e+07</td>\n",
       "</tr>\n",
       "<tr>\n",
       "  <th>No. Observations:</th>      <td>5239438</td>     <th>  AIC:               </th>  <td>5.956e+07</td> \n",
       "</tr>\n",
       "<tr>\n",
       "  <th>Df Residuals:</th>          <td>5239434</td>     <th>  BIC:               </th>  <td>5.956e+07</td> \n",
       "</tr>\n",
       "<tr>\n",
       "  <th>Df Model:</th>              <td>     3</td>      <th>                     </th>      <td> </td>     \n",
       "</tr>\n",
       "<tr>\n",
       "  <th>Covariance Type:</th>      <td>nonrobust</td>    <th>                     </th>      <td> </td>     \n",
       "</tr>\n",
       "</table>\n",
       "<table class=\"simpletable\">\n",
       "<tr>\n",
       "      <td></td>         <th>coef</th>     <th>std err</th>      <th>t</th>      <th>P>|t|</th> <th>[95.0% Conf. Int.]</th> \n",
       "</tr>\n",
       "<tr>\n",
       "  <th>const</th>     <td>  435.9209</td> <td>    0.071</td> <td> 6104.004</td> <td> 0.000</td> <td>  435.781   436.061</td>\n",
       "</tr>\n",
       "<tr>\n",
       "  <th>RENDAQT</th>   <td>    0.0120</td> <td> 1.73e-05</td> <td>  693.766</td> <td> 0.000</td> <td>    0.012     0.012</td>\n",
       "</tr>\n",
       "<tr>\n",
       "  <th>ESTUDOPQT</th> <td>    2.3669</td> <td>    0.008</td> <td>  282.326</td> <td> 0.000</td> <td>    2.351     2.383</td>\n",
       "</tr>\n",
       "<tr>\n",
       "  <th>ESTUDOMQT</th> <td>    2.1273</td> <td>    0.008</td> <td>  265.858</td> <td> 0.000</td> <td>    2.112     2.143</td>\n",
       "</tr>\n",
       "</table>\n",
       "<table class=\"simpletable\">\n",
       "<tr>\n",
       "  <th>Omnibus:</th>       <td>6185.959</td> <th>  Durbin-Watson:     </th> <td>   1.957</td>\n",
       "</tr>\n",
       "<tr>\n",
       "  <th>Prob(Omnibus):</th>  <td> 0.000</td>  <th>  Jarque-Bera (JB):  </th> <td>7347.135</td>\n",
       "</tr>\n",
       "<tr>\n",
       "  <th>Skew:</th>           <td> 0.006</td>  <th>  Prob(JB):          </th> <td>    0.00</td>\n",
       "</tr>\n",
       "<tr>\n",
       "  <th>Kurtosis:</th>       <td> 3.183</td>  <th>  Cond. No.          </th> <td>6.18e+03</td>\n",
       "</tr>\n",
       "</table>"
      ],
      "text/plain": [
       "<class 'statsmodels.iolib.summary.Summary'>\n",
       "\"\"\"\n",
       "                            OLS Regression Results                            \n",
       "==============================================================================\n",
       "Dep. Variable:            MEDIA_NOTAS   R-squared:                       0.220\n",
       "Model:                            OLS   Adj. R-squared:                  0.220\n",
       "Method:                 Least Squares   F-statistic:                 4.922e+05\n",
       "Date:                Tue, 21 Nov 2017   Prob (F-statistic):               0.00\n",
       "Time:                        17:21:05   Log-Likelihood:            -2.9780e+07\n",
       "No. Observations:             5239438   AIC:                         5.956e+07\n",
       "Df Residuals:                 5239434   BIC:                         5.956e+07\n",
       "Df Model:                           3                                         \n",
       "Covariance Type:            nonrobust                                         \n",
       "==============================================================================\n",
       "                 coef    std err          t      P>|t|      [95.0% Conf. Int.]\n",
       "------------------------------------------------------------------------------\n",
       "const        435.9209      0.071   6104.004      0.000       435.781   436.061\n",
       "RENDAQT        0.0120   1.73e-05    693.766      0.000         0.012     0.012\n",
       "ESTUDOPQT      2.3669      0.008    282.326      0.000         2.351     2.383\n",
       "ESTUDOMQT      2.1273      0.008    265.858      0.000         2.112     2.143\n",
       "==============================================================================\n",
       "Omnibus:                     6185.959   Durbin-Watson:                   1.957\n",
       "Prob(Omnibus):                  0.000   Jarque-Bera (JB):             7347.135\n",
       "Skew:                           0.006   Prob(JB):                         0.00\n",
       "Kurtosis:                       3.183   Cond. No.                     6.18e+03\n",
       "==============================================================================\n",
       "\n",
       "Warnings:\n",
       "[1] Standard Errors assume that the covariance matrix of the errors is correctly specified.\n",
       "[2] The condition number is large, 6.18e+03. This might indicate that there are\n",
       "strong multicollinearity or other numerical problems.\n",
       "\"\"\""
      ]
     },
     "execution_count": 36,
     "metadata": {},
     "output_type": "execute_result"
    }
   ],
   "source": [
    "DADOS14 = DADOS14[pd.notnull(DADOS14.RENDAQT)&pd.notnull(DADOS14.ESTUDOPQT)&pd.notnull(DADOS14.ESTUDOMQT)]\n",
    "\n",
    "Y = DADOS14['MEDIA_NOTAS']\n",
    "X = DADOS14[['RENDAQT','ESTUDOPQT','ESTUDOMQT']]\n",
    "X = sm.add_constant(X)\n",
    "model = sm.OLS(Y,X)\n",
    "results = model.fit()\n",
    "results.summary()"
   ]
  },
  {
   "cell_type": "markdown",
   "metadata": {},
   "source": [
    "Em 2014 foi possível observar um comportamento semelhante ao dos dados de 2015. A relação entrre as variáveis existe e pode ser visto com o valor de p-value e R^2, mas não é uma relação de grande relevância, o que me faz concluir que existem outras variáveis que também influênciam na nota, não podendo apensa essas serem consideradas de grande importância no contexto das notas dos alunos nas provas do enem."
   ]
  }
 ],
 "metadata": {
  "kernelspec": {
   "display_name": "Python 3",
   "language": "python",
   "name": "python3"
  },
  "language_info": {
   "codemirror_mode": {
    "name": "ipython",
    "version": 3
   },
   "file_extension": ".py",
   "mimetype": "text/x-python",
   "name": "python",
   "nbconvert_exporter": "python",
   "pygments_lexer": "ipython3",
   "version": "3.6.0"
  }
 },
 "nbformat": 4,
 "nbformat_minor": 2
}
